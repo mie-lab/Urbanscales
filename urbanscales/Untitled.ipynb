{
 "cells": [
  {
   "cell_type": "code",
   "execution_count": 6,
   "id": "3507aa8e",
   "metadata": {},
   "outputs": [
    {
     "name": "stdout",
     "output_type": "stream",
     "text": [
      "Format png is not supported natively. Pyreverse will try to generate it using Graphviz...\n",
      "parsing ../urbanscales/preprocessing/__init__.py...\n",
      "parsing /Users/nishant/Documents/GitHub/WCS/urbanscales/preprocessing/tile.py...\n",
      "parsing /Users/nishant/Documents/GitHub/WCS/urbanscales/preprocessing/smart_truncate_gpd.py...\n",
      "parsing /Users/nishant/Documents/GitHub/WCS/urbanscales/preprocessing/__init__.py...\n",
      "parsing /Users/nishant/Documents/GitHub/WCS/urbanscales/preprocessing/prep_network.py...\n",
      "parsing /Users/nishant/Documents/GitHub/WCS/urbanscales/preprocessing/train_data.py...\n",
      "parsing /Users/nishant/Documents/GitHub/WCS/urbanscales/preprocessing/prep_speed.py...\n",
      "parsing /Users/nishant/Documents/GitHub/WCS/urbanscales/preprocessing/cache/__init__.py...\n",
      "parsing /Users/nishant/Documents/GitHub/WCS/urbanscales/preprocessing/speed_data/__init__.py...\n",
      "parsing /Users/nishant/Documents/GitHub/WCS/urbanscales/preprocessing/speed_data/Singapore/__init__.py...\n",
      "parsing /Users/nishant/Documents/GitHub/WCS/urbanscales/preprocessing/__pycache__/__init__.py...\n",
      "parsing /Users/nishant/Documents/GitHub/WCS/urbanscales/preprocessing/warnings/__init__.py...\n"
     ]
    }
   ],
   "source": [
    "!pyreverse -o png ../urbanscales/preprocessing"
   ]
  },
  {
   "cell_type": "code",
   "execution_count": 2,
   "id": "88862ad8",
   "metadata": {},
   "outputs": [
    {
     "data": {
      "text/plain": [
       "6"
      ]
     },
     "execution_count": 2,
     "metadata": {},
     "output_type": "execute_result"
    }
   ],
   "source": [
    "2 +4"
   ]
  },
  {
   "cell_type": "code",
   "execution_count": 8,
   "id": "0895ef83",
   "metadata": {},
   "outputs": [
    {
     "name": "stdout",
     "output_type": "stream",
     "text": [
      "p-value annotation legend:\n",
      "      ns: p <= 1.00e+00\n",
      "       *: 1.00e-02 < p <= 5.00e-02\n",
      "      **: 1.00e-03 < p <= 1.00e-02\n",
      "     ***: 1.00e-04 < p <= 1.00e-03\n",
      "    ****: p <= 1.00e-04\n",
      "\n",
      "Thur vs. Fri: Mann-Whitney-Wilcoxon test two-sided, P_val:6.477e-01 U_stat=6.305e+02\n",
      "Thur vs. Sat: Mann-Whitney-Wilcoxon test two-sided, P_val:4.690e-02 U_stat=2.180e+03\n",
      "Sun vs. Fri: Mann-Whitney-Wilcoxon test two-sided, P_val:2.680e-02 U_stat=9.605e+02\n"
     ]
    },
    {
     "data": {
      "image/png": "[encoded data removed]",
      "text/plain": [
       "<Figure size 640x480 with 1 Axes>"
      ]
     },
     "metadata": {},
     "output_type": "display_data"
    }
   ],
   "source": [
    "from statannotations.Annotator import Annotator\n",
    "import matplotlib.pyplot as plt\n",
    "import seaborn as sns\n",
    "import pandas as pd\n",
    "\n",
    "df = sns.load_dataset(\"tips\")\n",
    "x = \"day\"\n",
    "y = \"total_bill\"\n",
    "order = ['Sun', 'Thur', 'Fri', 'Sat']\n",
    "ax = sns.boxplot(data=df, x=x, y=y, order=order)\n",
    "annot = Annotator(ax, [(\"Thur\", \"Fri\"), (\"Thur\", \"Sat\"), (\"Fri\", \"Sun\")], data=df, x=x, y=y, order=order)\n",
    "\n",
    "annot.configure(test='Mann-Whitney', text_format='star', loc='outside', verbose=2)\n",
    "annot.apply_test()\n",
    "ax, test_results = annot.annotate()\n",
    "plt.savefig('example_non-hue_outside.png', dpi=300, bbox_inches='tight')"
   ]
  },
  {
   "cell_type": "code",
   "execution_count": 9,
   "id": "eab81db3",
   "metadata": {},
   "outputs": [
    {
     "data": {
      "text/plain": [
       "<statannotations.Annotator.Annotator at 0x1053bbb50>"
      ]
     },
     "execution_count": 9,
     "metadata": {},
     "output_type": "execute_result"
    }
   ],
   "source": [
    "annot._get_custom_results"
   ]
  },
  {
   "cell_type": "code",
   "execution_count": 21,
   "id": "d73df175",
   "metadata": {},
   "outputs": [],
   "source": []
  },
  {
   "cell_type": "code",
   "execution_count": 51,
   "id": "8d08e1a3",
   "metadata": {},
   "outputs": [
    {
     "name": "stdout",
     "output_type": "stream",
     "text": [
      "Before hardcoding pvalue thresholds \n",
      "Dict: annot.get_configuration()[\"pvalue_format\"]\n",
      "Key: Value\n"
     ]
    },
    {
     "data": {
      "text/html": [
       "<pre style=\"white-space:pre;overflow-x:auto;line-height:normal;font-family:Menlo,'DejaVu Sans Mono',consolas,'Courier New',monospace\"><span style=\"font-weight: bold\">{</span><span style=\"color: #008000; text-decoration-color: #008000\">'correction_format'</span>: <span style=\"color: #008000; text-decoration-color: #008000\">'{star} ({suffix})'</span>,\n",
       " <span style=\"color: #008000; text-decoration-color: #008000\">'fontsize'</span>: <span style=\"color: #008000; text-decoration-color: #008000\">'medium'</span>,\n",
       " <span style=\"color: #008000; text-decoration-color: #008000\">'pvalue_format_string'</span>: <span style=\"color: #008000; text-decoration-color: #008000\">'{:.3e}'</span>,\n",
       " <span style=\"color: #008000; text-decoration-color: #008000\">'pvalue_thresholds'</span>: <span style=\"font-weight: bold\">[[</span><span style=\"color: #008080; text-decoration-color: #008080; font-weight: bold\">0.0001</span>, <span style=\"color: #008000; text-decoration-color: #008000\">'****'</span><span style=\"font-weight: bold\">]</span>,\n",
       "                       <span style=\"font-weight: bold\">[</span><span style=\"color: #008080; text-decoration-color: #008080; font-weight: bold\">0.001</span>, <span style=\"color: #008000; text-decoration-color: #008000\">'***'</span><span style=\"font-weight: bold\">]</span>,\n",
       "                       <span style=\"font-weight: bold\">[</span><span style=\"color: #008080; text-decoration-color: #008080; font-weight: bold\">0.01</span>, <span style=\"color: #008000; text-decoration-color: #008000\">'**'</span><span style=\"font-weight: bold\">]</span>,\n",
       "                       <span style=\"font-weight: bold\">[</span><span style=\"color: #008080; text-decoration-color: #008080; font-weight: bold\">0.05</span>, <span style=\"color: #008000; text-decoration-color: #008000\">'*'</span><span style=\"font-weight: bold\">]</span>,\n",
       "                       <span style=\"font-weight: bold\">[</span><span style=\"color: #008080; text-decoration-color: #008080; font-weight: bold\">1</span>, <span style=\"color: #008000; text-decoration-color: #008000\">'ns'</span><span style=\"font-weight: bold\">]]</span>,\n",
       " <span style=\"color: #008000; text-decoration-color: #008000\">'show_test_name'</span>: <span style=\"color: #00ff00; text-decoration-color: #00ff00; font-style: italic\">True</span>,\n",
       " <span style=\"color: #008000; text-decoration-color: #008000\">'simple_format_string'</span>: <span style=\"color: #008000; text-decoration-color: #008000\">'{:.2f}'</span>,\n",
       " <span style=\"color: #008000; text-decoration-color: #008000\">'text_format'</span>: <span style=\"color: #008000; text-decoration-color: #008000\">'star'</span><span style=\"font-weight: bold\">}</span>\n",
       "</pre>\n"
      ],
      "text/plain": [
       "\u001b[1m{\u001b[0m\u001b[32m'correction_format'\u001b[0m: \u001b[32m'\u001b[0m\u001b[32m{\u001b[0m\u001b[32mstar\u001b[0m\u001b[32m}\u001b[0m\u001b[32m \u001b[0m\u001b[32m(\u001b[0m\u001b[32m{\u001b[0m\u001b[32msuffix\u001b[0m\u001b[32m}\u001b[0m\u001b[32m)\u001b[0m\u001b[32m'\u001b[0m,\n",
       " \u001b[32m'fontsize'\u001b[0m: \u001b[32m'medium'\u001b[0m,\n",
       " \u001b[32m'pvalue_format_string'\u001b[0m: \u001b[32m'\u001b[0m\u001b[32m{\u001b[0m\u001b[32m:.3e\u001b[0m\u001b[32m}\u001b[0m\u001b[32m'\u001b[0m,\n",
       " \u001b[32m'pvalue_thresholds'\u001b[0m: \u001b[1m[\u001b[0m\u001b[1m[\u001b[0m\u001b[1;36m0.0001\u001b[0m, \u001b[32m'****'\u001b[0m\u001b[1m]\u001b[0m,\n",
       "                       \u001b[1m[\u001b[0m\u001b[1;36m0.001\u001b[0m, \u001b[32m'***'\u001b[0m\u001b[1m]\u001b[0m,\n",
       "                       \u001b[1m[\u001b[0m\u001b[1;36m0.01\u001b[0m, \u001b[32m'**'\u001b[0m\u001b[1m]\u001b[0m,\n",
       "                       \u001b[1m[\u001b[0m\u001b[1;36m0.05\u001b[0m, \u001b[32m'*'\u001b[0m\u001b[1m]\u001b[0m,\n",
       "                       \u001b[1m[\u001b[0m\u001b[1;36m1\u001b[0m, \u001b[32m'ns'\u001b[0m\u001b[1m]\u001b[0m\u001b[1m]\u001b[0m,\n",
       " \u001b[32m'show_test_name'\u001b[0m: \u001b[3;92mTrue\u001b[0m,\n",
       " \u001b[32m'simple_format_string'\u001b[0m: \u001b[32m'\u001b[0m\u001b[32m{\u001b[0m\u001b[32m:.2f\u001b[0m\u001b[32m}\u001b[0m\u001b[32m'\u001b[0m,\n",
       " \u001b[32m'text_format'\u001b[0m: \u001b[32m'star'\u001b[0m\u001b[1m}\u001b[0m\n"
      ]
     },
     "metadata": {},
     "output_type": "display_data"
    },
    {
     "name": "stdout",
     "output_type": "stream",
     "text": [
      "p-value annotation legend:\n",
      "      ns: p <= 1.00e+00\n",
      "       *: 2.00e-01 < p <= 6.00e-01\n",
      "      **: 3.00e-02 < p <= 2.00e-01\n",
      "     ***: 1.00e-02 < p <= 3.00e-02\n",
      "    ****: p <= 1.00e-02\n",
      "\n",
      "Thur vs. Fri: Mann-Whitney-Wilcoxon test two-sided, P_val:6.477e-01 U_stat=6.305e+02\n",
      "Thur vs. Sat: Mann-Whitney-Wilcoxon test two-sided, P_val:4.690e-02 U_stat=2.180e+03\n",
      "Sun vs. Fri: Mann-Whitney-Wilcoxon test two-sided, P_val:2.680e-02 U_stat=9.605e+02\n",
      "After hardcoding pvalue thresholds \n",
      "Dict: annot.get_configuration()[\"pvalue_format\"]\n",
      "Key: Value\n"
     ]
    },
    {
     "data": {
      "text/html": [
       "<pre style=\"white-space:pre;overflow-x:auto;line-height:normal;font-family:Menlo,'DejaVu Sans Mono',consolas,'Courier New',monospace\"><span style=\"font-weight: bold\">{</span><span style=\"color: #008000; text-decoration-color: #008000\">'correction_format'</span>: <span style=\"color: #008000; text-decoration-color: #008000\">'{star} ({suffix})'</span>,\n",
       " <span style=\"color: #008000; text-decoration-color: #008000\">'fontsize'</span>: <span style=\"color: #008000; text-decoration-color: #008000\">'medium'</span>,\n",
       " <span style=\"color: #008000; text-decoration-color: #008000\">'pvalue_format_string'</span>: <span style=\"color: #008000; text-decoration-color: #008000\">'{:.3e}'</span>,\n",
       " <span style=\"color: #008000; text-decoration-color: #008000\">'pvalue_thresholds'</span>: <span style=\"font-weight: bold\">[[</span><span style=\"color: #008080; text-decoration-color: #008080; font-weight: bold\">0.01</span>, <span style=\"color: #008000; text-decoration-color: #008000\">'****'</span><span style=\"font-weight: bold\">]</span>,\n",
       "                       <span style=\"font-weight: bold\">[</span><span style=\"color: #008080; text-decoration-color: #008080; font-weight: bold\">0.03</span>, <span style=\"color: #008000; text-decoration-color: #008000\">'***'</span><span style=\"font-weight: bold\">]</span>,\n",
       "                       <span style=\"font-weight: bold\">[</span><span style=\"color: #008080; text-decoration-color: #008080; font-weight: bold\">0.2</span>, <span style=\"color: #008000; text-decoration-color: #008000\">'**'</span><span style=\"font-weight: bold\">]</span>,\n",
       "                       <span style=\"font-weight: bold\">[</span><span style=\"color: #008080; text-decoration-color: #008080; font-weight: bold\">0.6</span>, <span style=\"color: #008000; text-decoration-color: #008000\">'*'</span><span style=\"font-weight: bold\">]</span>,\n",
       "                       <span style=\"font-weight: bold\">[</span><span style=\"color: #008080; text-decoration-color: #008080; font-weight: bold\">1</span>, <span style=\"color: #008000; text-decoration-color: #008000\">'ns'</span><span style=\"font-weight: bold\">]]</span>,\n",
       " <span style=\"color: #008000; text-decoration-color: #008000\">'show_test_name'</span>: <span style=\"color: #00ff00; text-decoration-color: #00ff00; font-style: italic\">True</span>,\n",
       " <span style=\"color: #008000; text-decoration-color: #008000\">'simple_format_string'</span>: <span style=\"color: #008000; text-decoration-color: #008000\">'{:.2f}'</span>,\n",
       " <span style=\"color: #008000; text-decoration-color: #008000\">'text_format'</span>: <span style=\"color: #008000; text-decoration-color: #008000\">'star'</span><span style=\"font-weight: bold\">}</span>\n",
       "</pre>\n"
      ],
      "text/plain": [
       "\u001b[1m{\u001b[0m\u001b[32m'correction_format'\u001b[0m: \u001b[32m'\u001b[0m\u001b[32m{\u001b[0m\u001b[32mstar\u001b[0m\u001b[32m}\u001b[0m\u001b[32m \u001b[0m\u001b[32m(\u001b[0m\u001b[32m{\u001b[0m\u001b[32msuffix\u001b[0m\u001b[32m}\u001b[0m\u001b[32m)\u001b[0m\u001b[32m'\u001b[0m,\n",
       " \u001b[32m'fontsize'\u001b[0m: \u001b[32m'medium'\u001b[0m,\n",
       " \u001b[32m'pvalue_format_string'\u001b[0m: \u001b[32m'\u001b[0m\u001b[32m{\u001b[0m\u001b[32m:.3e\u001b[0m\u001b[32m}\u001b[0m\u001b[32m'\u001b[0m,\n",
       " \u001b[32m'pvalue_thresholds'\u001b[0m: \u001b[1m[\u001b[0m\u001b[1m[\u001b[0m\u001b[1;36m0.01\u001b[0m, \u001b[32m'****'\u001b[0m\u001b[1m]\u001b[0m,\n",
       "                       \u001b[1m[\u001b[0m\u001b[1;36m0.03\u001b[0m, \u001b[32m'***'\u001b[0m\u001b[1m]\u001b[0m,\n",
       "                       \u001b[1m[\u001b[0m\u001b[1;36m0.2\u001b[0m, \u001b[32m'**'\u001b[0m\u001b[1m]\u001b[0m,\n",
       "                       \u001b[1m[\u001b[0m\u001b[1;36m0.6\u001b[0m, \u001b[32m'*'\u001b[0m\u001b[1m]\u001b[0m,\n",
       "                       \u001b[1m[\u001b[0m\u001b[1;36m1\u001b[0m, \u001b[32m'ns'\u001b[0m\u001b[1m]\u001b[0m\u001b[1m]\u001b[0m,\n",
       " \u001b[32m'show_test_name'\u001b[0m: \u001b[3;92mTrue\u001b[0m,\n",
       " \u001b[32m'simple_format_string'\u001b[0m: \u001b[32m'\u001b[0m\u001b[32m{\u001b[0m\u001b[32m:.2f\u001b[0m\u001b[32m}\u001b[0m\u001b[32m'\u001b[0m,\n",
       " \u001b[32m'text_format'\u001b[0m: \u001b[32m'star'\u001b[0m\u001b[1m}\u001b[0m\n"
      ]
     },
     "metadata": {},
     "output_type": "display_data"
    },
    {
     "data": {
      "image/png": "[encoded data removed]",
      "text/plain": [
       "<Figure size 640x480 with 1 Axes>"
      ]
     },
     "metadata": {},
     "output_type": "display_data"
    }
   ],
   "source": [
    "! pip install smartprint\n",
    "\n",
    "from smartprint import smartprint as sprint\n",
    "from statannotations.Annotator import Annotator\n",
    "import matplotlib.pyplot as plt\n",
    "import seaborn as sns\n",
    "import pandas as pd\n",
    "\n",
    "df = sns.load_dataset(\"tips\")\n",
    "x = \"day\"\n",
    "y = \"total_bill\"\n",
    "order = ['Sun', 'Thur', 'Fri', 'Sat']\n",
    "ax = sns.boxplot(data=df, x=x, y=y, order=order)\n",
    "annot = Annotator(ax, [(\"Thur\", \"Fri\"), (\"Thur\", \"Sat\"), (\"Fri\", \"Sun\")], data=df, x=x, y=y, order=order)\n",
    "\n",
    "print (\"Before hardcoding pvalue thresholds \")\n",
    "sprint (annot.get_configuration()[\"pvalue_format\"])\n",
    "\n",
    "annot._pvalue_format.pvalue_thresholds =  [[0.01, '****'], [0.03, '***'], [0.2, '**'], [0.6, '*'], [1, 'ns']]\n",
    "annot.configure(test='Mann-Whitney', text_format='star', loc='outside', verbose=2)\n",
    "annot.apply_test()\n",
    "ax, test_results = annot.annotate()\n",
    "plt.savefig('example_non-hue_outside.png', dpi=300, bbox_inches='tight')\n",
    "\n",
    "print (\"After hardcoding pvalue thresholds \")\n",
    "sprint (annot.get_configuration()[\"pvalue_format\"])"
   ]
  },
  {
   "cell_type": "code",
   "execution_count": 43,
   "id": "2946f0e8",
   "metadata": {},
   "outputs": [],
   "source": [
    "annot._pvalue_format.pvalue_thresholds =  [[0.0003, '****'], [0.01, '***'], [0.1, '**'], [0.5, '*'], [1, 'ns']]"
   ]
  },
  {
   "cell_type": "code",
   "execution_count": 38,
   "id": "653887fa",
   "metadata": {},
   "outputs": [
    {
     "ename": "AttributeError",
     "evalue": "'dict' object has no attribute 'get_configuration'",
     "output_type": "error",
     "traceback": [
      "\u001b[0;31m---------------------------------------------------------------------------\u001b[0m",
      "\u001b[0;31mAttributeError\u001b[0m                            Traceback (most recent call last)",
      "Cell \u001b[0;32mIn[38], line 2\u001b[0m\n\u001b[1;32m      1\u001b[0m \u001b[38;5;66;03m# Create an instance of the PValueFormat class\u001b[39;00m\n\u001b[0;32m----> 2\u001b[0m annot \u001b[38;5;241m=\u001b[39m \u001b[43mannot\u001b[49m\u001b[38;5;241;43m.\u001b[39;49m\u001b[43mget_configuration\u001b[49m()[\u001b[38;5;124m\"\u001b[39m\u001b[38;5;124mpvalue_format\u001b[39m\u001b[38;5;124m\"\u001b[39m]\n\u001b[1;32m      4\u001b[0m \u001b[38;5;66;03m# Update the configuration with the new pvalue_thresholds values\u001b[39;00m\n\u001b[1;32m      5\u001b[0m new_thresholds \u001b[38;5;241m=\u001b[39m [[\u001b[38;5;241m0.0003\u001b[39m, \u001b[38;5;124m'\u001b[39m\u001b[38;5;124m****\u001b[39m\u001b[38;5;124m'\u001b[39m], [\u001b[38;5;241m0.01\u001b[39m, \u001b[38;5;124m'\u001b[39m\u001b[38;5;124m***\u001b[39m\u001b[38;5;124m'\u001b[39m], [\u001b[38;5;241m0.1\u001b[39m, \u001b[38;5;124m'\u001b[39m\u001b[38;5;124m**\u001b[39m\u001b[38;5;124m'\u001b[39m], [\u001b[38;5;241m0.5\u001b[39m, \u001b[38;5;124m'\u001b[39m\u001b[38;5;124m*\u001b[39m\u001b[38;5;124m'\u001b[39m], [\u001b[38;5;241m1\u001b[39m, \u001b[38;5;124m'\u001b[39m\u001b[38;5;124mns\u001b[39m\u001b[38;5;124m'\u001b[39m]]\n",
      "\u001b[0;31mAttributeError\u001b[0m: 'dict' object has no attribute 'get_configuration'"
     ]
    }
   ],
   "source": []
  },
  {
   "cell_type": "code",
   "execution_count": null,
   "id": "050e5acf",
   "metadata": {},
   "outputs": [],
   "source": []
  }
 ],
 "metadata": {
  "kernelspec": {
   "display_name": "Python 3 (ipykernel)",
   "language": "python",
   "name": "python3"
  },
  "language_info": {
   "codemirror_mode": {
    "name": "ipython",
    "version": 3
   },
   "file_extension": ".py",
   "mimetype": "text/x-python",
   "name": "python",
   "nbconvert_exporter": "python",
   "pygments_lexer": "ipython3",
   "version": "3.10.5"
  }
 },
 "nbformat": 4,
 "nbformat_minor": 5
}
