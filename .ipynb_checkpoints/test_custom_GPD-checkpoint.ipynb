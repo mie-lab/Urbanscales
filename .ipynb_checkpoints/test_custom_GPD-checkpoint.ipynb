{
 "cells": [
  {
   "cell_type": "code",
   "execution_count": null,
   "id": "eafc4660-40b9-44ee-b77b-fca6e5f2dc41",
   "metadata": {},
   "outputs": [],
   "source": [
    "# ! pip install osmnx\n",
    "import osmnx as ox\n",
    "import geopandas as gpd\n",
    "import shapely.geometry\n",
    "from shapely.geometry import box\n",
    "import numpy as np\n",
    "from tqdm import tqdm\n",
    "import time\n",
    "\n",
    "def create_subgraphs_from_bboxes(G, bboxes):\n",
    "    gdf_nodes, gdf_edges = ox.graph_to_gdfs(G)\n",
    "    \n",
    "    bbox_gdf = gpd.GeoDataFrame({'bbox': bboxes},\n",
    "                                geometry=[box(west, south, east, north) for west, south, east, north in bboxes],\n",
    "                                crs=gdf_nodes.crs)\n",
    "\n",
    "    joined_nodes = gpd.sjoin(gdf_nodes, bbox_gdf, how='left', predicate='within')\n",
    "\n",
    "    subgraphs = {}\n",
    "    for bbox in tqdm(bbox_gdf['bbox'], desc=\"Iterating over bboxes\"):\n",
    "        west, south, east, north = bbox\n",
    "        nodes_in_bbox = joined_nodes[joined_nodes['bbox'] == bbox].index\n",
    "\n",
    "        # Filter edges where at least one node is in the bbox\n",
    "        # Include edge keys for MultiDiGraph\n",
    "        edges_in_bbox = [(u, v, k) for u, v, k in G.edges(keys=True) if u in nodes_in_bbox or v in nodes_in_bbox]\n",
    "\n",
    "        # Create subgraph based on these edges\n",
    "        G_sub = G.edge_subgraph(edges_in_bbox).copy()\n",
    "        subgraphs[(north, south, east, west)] = G_sub\n",
    "\n",
    "    return subgraphs\n",
    "\n",
    "\n",
    "def create_subgraphs_from_bboxes_optimised(G, bboxes):\n",
    "    gdf_nodes, _ = ox.graph_to_gdfs(G)\n",
    "\n",
    "    bbox_gdf = gpd.GeoDataFrame({'bbox': bboxes},\n",
    "                                geometry=[box(west, south, east, north) for west, south, east, north in bboxes],\n",
    "                                crs=gdf_nodes.crs)\n",
    "\n",
    "    joined_nodes = gpd.sjoin(gdf_nodes, bbox_gdf, how='left', predicate='within')\n",
    "\n",
    "    subgraphs = {}\n",
    "    for bbox in tqdm(bbox_gdf['bbox'], desc=\"Iterating over bboxes\"):\n",
    "        nodes_in_bbox = joined_nodes[joined_nodes['bbox'] == bbox].index\n",
    "\n",
    "        # Collect edges by checking neighbors of each node in the bbox\n",
    "        edges_in_bbox = set()\n",
    "        for node in nodes_in_bbox:\n",
    "            for neighbor in G.neighbors(node):\n",
    "                if G.has_edge(node, neighbor):\n",
    "                    key = 0 if not G.is_multigraph() else min(G[node][neighbor])\n",
    "                    edges_in_bbox.add((node, neighbor, key))\n",
    "\n",
    "        # Create subgraph based on these edges\n",
    "        G_sub = G.edge_subgraph(edges_in_bbox).copy()\n",
    "        \n",
    "        subgraphs[bbox] = G_sub\n",
    "\n",
    "    return subgraphs\n",
    "\n",
    "# G_sub = ox.utils_graph.get_largest_component(G_sub, strongly=False)\n",
    "\n",
    "if __name__ == \"__main__\":\n",
    "    # Load the base graph for the entire city\n",
    "    startime = time.time()\n",
    "    G_base = ox.graph_from_place('London', network_type='drive')\n",
    "    print (\"Time taken to get Graph from OSM: \", round(time.time() - startime,2))\n",
    "    gdf_nodes, gdf_edges = ox.graph_to_gdfs(G_base)\n",
    "\n",
    "    # Determine the bounds of the city\n",
    "    west, south, east, north = gdf_nodes.unary_union.bounds\n",
    "\n",
    "    # Calculate the step sizes for latitude and longitude\n",
    "    N = 50\n",
    "    lat_step = (north - south) / N\n",
    "    lon_step = (east - west) / N\n",
    "\n",
    "    # Generate a grid of bounding boxes (25x25)\n",
    "    bboxes = []\n",
    "    for i in range(N):\n",
    "        for j in range(N):\n",
    "            bbox_west = west + j * lon_step\n",
    "            bbox_east = west + (j + 1) * lon_step\n",
    "            bbox_south = south + i * lat_step\n",
    "            bbox_north = south + (i + 1) * lat_step\n",
    "            bboxes.append((bbox_west, bbox_south, bbox_east, bbox_north))\n",
    "\n",
    "    # Now you can process these bboxes with your function\n",
    "    # For example:\n",
    "    subgraphs_slow = create_subgraphs_from_bboxes_slow(G_base, bboxes[1000:60])\n",
    "\n",
    "    subgraphs_fast = create_subgraphs_from_bboxes_optimised(G_base, bboxes[1000:1500])\n",
    "    \n",
    "    # [Add your processing code here]\n"
   ]
  },
  {
   "cell_type": "code",
   "execution_count": null,
   "id": "fdee0dff-8a50-4032-8ed0-8e92c5630e7d",
   "metadata": {},
   "outputs": [],
   "source": [
    "# for i in range(10):\n",
    "#     print (ox.basic_stats(subgraphs_fast[i]).values())\n",
    "#     print (ox.basic_stats(subgraphs_slow[i]).values(), ox.basic_stats(subgraphs_slow[i])['m'], len(subgraphs_slow[i].edges))\n",
    "#     print (\" --- \\n --- \")\n",
    "\n",
    "\n",
    "useful_i = []\n",
    "for i in range(500):\n",
    "    if len(subgraphs_fast[i].edges)==0 or len(subgraphs_fast[i].nodes)==0 or \\\n",
    "        len(subgraphs_slow[i].edges)==0 or len(subgraphs_slow[i].nodes)==0:\n",
    "        continue\n",
    "    useful_i.append(i)\n",
    "    print (ox.basic_stats(subgraphs_fast[i])['m'], len(subgraphs_fast[i].edges))\n",
    "    print (ox.basic_stats(subgraphs_slow[i])['m'], len(subgraphs_slow[i].edges))\n",
    "    print (\" --- \\n --- \")"
   ]
  },
  {
   "cell_type": "code",
   "execution_count": null,
   "id": "3426a05b-d646-4d9d-aafd-9db753ddb14b",
   "metadata": {},
   "outputs": [
    {
     "name": "stdout",
     "output_type": "stream",
     "text": [
      "TkAgg\n"
     ]
    }
   ],
   "source": [
    "import matplotlib\n",
    "print(matplotlib.get_backend())\n",
    "# If necessary, switch to a different backend, e.g., 'TkAgg', 'Qt5Agg', etc.\n",
    "matplotlib.use('TkAgg')\n",
    "\n",
    "def plot_separate_subgraphs(subgraphs, title_prefix, num_plots=5):\n",
    "    for i in useful_i:\n",
    "        if i in subgraphs:\n",
    "            G_sub = subgraphs_slow[i]\n",
    "            fig, ax = plt.subplots(figsize=(6, 6))\n",
    "            fig.suptitle(f\"{title_prefix} - Subgraph {i}\")\n",
    "            ox.plot_graph(G_sub, ax=ax, node_size=20, edge_linewidth=1, node_color='blue')\n",
    "            ox.plot_graph(subgraphs_fast[i], ax=ax, node_size=20, edge_linewidth=1, node_color='red')\n",
    "            plt.show()\n",
    "\n",
    "plot_separate_subgraphs(subgraphs_slow, \"Slow Method\", num_plots=5)\n",
    "# plot_separate_subgraphs(subgraphs_fast, \"Optimized Method\", num_plots=5)\n"
   ]
  },
  {
   "cell_type": "code",
   "execution_count": 6,
   "id": "a22c1fab-a6ee-4ef2-aca8-bfa507caea6f",
   "metadata": {},
   "outputs": [],
   "source": [
    "# ! pip install osmnx\n",
    "import osmnx as ox\n",
    "import geopandas as gpd\n",
    "import shapely.geometry\n",
    "from shapely.geometry import box\n",
    "import numpy as np\n",
    "from tqdm import tqdm\n",
    "import time\n",
    "\n",
    "bbox_gdf = gpd.GeoDataFrame({'bbox_id': range(len(bboxes))},\n",
    "                                geometry=[box(west, south, east, north) for west, south, east, north in bboxes],\n",
    "                                crs=gdf_nodes.crs)\n"
   ]
  },
  {
   "cell_type": "code",
   "execution_count": 10,
   "id": "d3c62a13-bdae-40cc-b7b2-441051b82531",
   "metadata": {},
   "outputs": [
    {
     "ename": "KeyError",
     "evalue": "'bbox'",
     "output_type": "error",
     "traceback": [
      "\u001b[0;31m---------------------------------------------------------------------------\u001b[0m",
      "\u001b[0;31mKeyError\u001b[0m                                  Traceback (most recent call last)",
      "File \u001b[0;32m~/opt/anaconda3/envs/wcs3/lib/python3.8/site-packages/pandas/core/indexes/base.py:3621\u001b[0m, in \u001b[0;36mIndex.get_loc\u001b[0;34m(self, key, method, tolerance)\u001b[0m\n\u001b[1;32m   3620\u001b[0m \u001b[38;5;28;01mtry\u001b[39;00m:\n\u001b[0;32m-> 3621\u001b[0m     \u001b[38;5;28;01mreturn\u001b[39;00m \u001b[38;5;28;43mself\u001b[39;49m\u001b[38;5;241;43m.\u001b[39;49m\u001b[43m_engine\u001b[49m\u001b[38;5;241;43m.\u001b[39;49m\u001b[43mget_loc\u001b[49m\u001b[43m(\u001b[49m\u001b[43mcasted_key\u001b[49m\u001b[43m)\u001b[49m\n\u001b[1;32m   3622\u001b[0m \u001b[38;5;28;01mexcept\u001b[39;00m \u001b[38;5;167;01mKeyError\u001b[39;00m \u001b[38;5;28;01mas\u001b[39;00m err:\n",
      "File \u001b[0;32m~/opt/anaconda3/envs/wcs3/lib/python3.8/site-packages/pandas/_libs/index.pyx:136\u001b[0m, in \u001b[0;36mpandas._libs.index.IndexEngine.get_loc\u001b[0;34m()\u001b[0m\n",
      "File \u001b[0;32m~/opt/anaconda3/envs/wcs3/lib/python3.8/site-packages/pandas/_libs/index.pyx:163\u001b[0m, in \u001b[0;36mpandas._libs.index.IndexEngine.get_loc\u001b[0;34m()\u001b[0m\n",
      "File \u001b[0;32mpandas/_libs/hashtable_class_helper.pxi:5198\u001b[0m, in \u001b[0;36mpandas._libs.hashtable.PyObjectHashTable.get_item\u001b[0;34m()\u001b[0m\n",
      "File \u001b[0;32mpandas/_libs/hashtable_class_helper.pxi:5206\u001b[0m, in \u001b[0;36mpandas._libs.hashtable.PyObjectHashTable.get_item\u001b[0;34m()\u001b[0m\n",
      "\u001b[0;31mKeyError\u001b[0m: 'bbox'",
      "\nThe above exception was the direct cause of the following exception:\n",
      "\u001b[0;31mKeyError\u001b[0m                                  Traceback (most recent call last)",
      "Cell \u001b[0;32mIn[10], line 1\u001b[0m\n\u001b[0;32m----> 1\u001b[0m west, south, east, north \u001b[38;5;241m=\u001b[39m \u001b[43mbbox_gdf\u001b[49m\u001b[43m[\u001b[49m\u001b[38;5;124;43m\"\u001b[39;49m\u001b[38;5;124;43mbbox\u001b[39;49m\u001b[38;5;124;43m\"\u001b[39;49m\u001b[43m]\u001b[49m[\u001b[38;5;241m0\u001b[39m]\n",
      "File \u001b[0;32m~/opt/anaconda3/envs/wcs3/lib/python3.8/site-packages/geopandas/geodataframe.py:1475\u001b[0m, in \u001b[0;36mGeoDataFrame.__getitem__\u001b[0;34m(self, key)\u001b[0m\n\u001b[1;32m   1469\u001b[0m \u001b[38;5;28;01mdef\u001b[39;00m \u001b[38;5;21m__getitem__\u001b[39m(\u001b[38;5;28mself\u001b[39m, key):\n\u001b[1;32m   1470\u001b[0m \u001b[38;5;250m    \u001b[39m\u001b[38;5;124;03m\"\"\"\u001b[39;00m\n\u001b[1;32m   1471\u001b[0m \u001b[38;5;124;03m    If the result is a column containing only 'geometry', return a\u001b[39;00m\n\u001b[1;32m   1472\u001b[0m \u001b[38;5;124;03m    GeoSeries. If it's a DataFrame with any columns of GeometryDtype,\u001b[39;00m\n\u001b[1;32m   1473\u001b[0m \u001b[38;5;124;03m    return a GeoDataFrame.\u001b[39;00m\n\u001b[1;32m   1474\u001b[0m \u001b[38;5;124;03m    \"\"\"\u001b[39;00m\n\u001b[0;32m-> 1475\u001b[0m     result \u001b[38;5;241m=\u001b[39m \u001b[38;5;28;43msuper\u001b[39;49m\u001b[43m(\u001b[49m\u001b[43m)\u001b[49m\u001b[38;5;241;43m.\u001b[39;49m\u001b[38;5;21;43m__getitem__\u001b[39;49m\u001b[43m(\u001b[49m\u001b[43mkey\u001b[49m\u001b[43m)\u001b[49m\n\u001b[1;32m   1476\u001b[0m     \u001b[38;5;66;03m# Custom logic to avoid waiting for pandas GH51895\u001b[39;00m\n\u001b[1;32m   1477\u001b[0m     \u001b[38;5;66;03m# result is not geometry dtype for multi-indexes\u001b[39;00m\n\u001b[1;32m   1478\u001b[0m     \u001b[38;5;28;01mif\u001b[39;00m (\n\u001b[1;32m   1479\u001b[0m         pd\u001b[38;5;241m.\u001b[39mapi\u001b[38;5;241m.\u001b[39mtypes\u001b[38;5;241m.\u001b[39mis_scalar(key)\n\u001b[1;32m   1480\u001b[0m         \u001b[38;5;129;01mand\u001b[39;00m key \u001b[38;5;241m==\u001b[39m \u001b[38;5;124m\"\u001b[39m\u001b[38;5;124m\"\u001b[39m\n\u001b[0;32m   (...)\u001b[0m\n\u001b[1;32m   1483\u001b[0m         \u001b[38;5;129;01mand\u001b[39;00m \u001b[38;5;129;01mnot\u001b[39;00m is_geometry_type(result)\n\u001b[1;32m   1484\u001b[0m     ):\n",
      "File \u001b[0;32m~/opt/anaconda3/envs/wcs3/lib/python3.8/site-packages/pandas/core/frame.py:3505\u001b[0m, in \u001b[0;36mDataFrame.__getitem__\u001b[0;34m(self, key)\u001b[0m\n\u001b[1;32m   3503\u001b[0m \u001b[38;5;28;01mif\u001b[39;00m \u001b[38;5;28mself\u001b[39m\u001b[38;5;241m.\u001b[39mcolumns\u001b[38;5;241m.\u001b[39mnlevels \u001b[38;5;241m>\u001b[39m \u001b[38;5;241m1\u001b[39m:\n\u001b[1;32m   3504\u001b[0m     \u001b[38;5;28;01mreturn\u001b[39;00m \u001b[38;5;28mself\u001b[39m\u001b[38;5;241m.\u001b[39m_getitem_multilevel(key)\n\u001b[0;32m-> 3505\u001b[0m indexer \u001b[38;5;241m=\u001b[39m \u001b[38;5;28;43mself\u001b[39;49m\u001b[38;5;241;43m.\u001b[39;49m\u001b[43mcolumns\u001b[49m\u001b[38;5;241;43m.\u001b[39;49m\u001b[43mget_loc\u001b[49m\u001b[43m(\u001b[49m\u001b[43mkey\u001b[49m\u001b[43m)\u001b[49m\n\u001b[1;32m   3506\u001b[0m \u001b[38;5;28;01mif\u001b[39;00m is_integer(indexer):\n\u001b[1;32m   3507\u001b[0m     indexer \u001b[38;5;241m=\u001b[39m [indexer]\n",
      "File \u001b[0;32m~/opt/anaconda3/envs/wcs3/lib/python3.8/site-packages/pandas/core/indexes/base.py:3623\u001b[0m, in \u001b[0;36mIndex.get_loc\u001b[0;34m(self, key, method, tolerance)\u001b[0m\n\u001b[1;32m   3621\u001b[0m     \u001b[38;5;28;01mreturn\u001b[39;00m \u001b[38;5;28mself\u001b[39m\u001b[38;5;241m.\u001b[39m_engine\u001b[38;5;241m.\u001b[39mget_loc(casted_key)\n\u001b[1;32m   3622\u001b[0m \u001b[38;5;28;01mexcept\u001b[39;00m \u001b[38;5;167;01mKeyError\u001b[39;00m \u001b[38;5;28;01mas\u001b[39;00m err:\n\u001b[0;32m-> 3623\u001b[0m     \u001b[38;5;28;01mraise\u001b[39;00m \u001b[38;5;167;01mKeyError\u001b[39;00m(key) \u001b[38;5;28;01mfrom\u001b[39;00m \u001b[38;5;21;01merr\u001b[39;00m\n\u001b[1;32m   3624\u001b[0m \u001b[38;5;28;01mexcept\u001b[39;00m \u001b[38;5;167;01mTypeError\u001b[39;00m:\n\u001b[1;32m   3625\u001b[0m     \u001b[38;5;66;03m# If we have a listlike key, _check_indexing_error will raise\u001b[39;00m\n\u001b[1;32m   3626\u001b[0m     \u001b[38;5;66;03m#  InvalidIndexError. Otherwise we fall through and re-raise\u001b[39;00m\n\u001b[1;32m   3627\u001b[0m     \u001b[38;5;66;03m#  the TypeError.\u001b[39;00m\n\u001b[1;32m   3628\u001b[0m     \u001b[38;5;28mself\u001b[39m\u001b[38;5;241m.\u001b[39m_check_indexing_error(key)\n",
      "\u001b[0;31mKeyError\u001b[0m: 'bbox'"
     ]
    }
   ],
   "source": [
    "west, south, east, north = bbox_gdf[\"bbox\"][0]"
   ]
  },
  {
   "cell_type": "code",
   "execution_count": 1,
   "id": "89788577-e395-4209-bc62-9151c8b1aed8",
   "metadata": {},
   "outputs": [
    {
     "ename": "NameError",
     "evalue": "name 'useful_i' is not defined",
     "output_type": "error",
     "traceback": [
      "\u001b[0;31m---------------------------------------------------------------------------\u001b[0m",
      "\u001b[0;31mNameError\u001b[0m                                 Traceback (most recent call last)",
      "Cell \u001b[0;32mIn[1], line 1\u001b[0m\n\u001b[0;32m----> 1\u001b[0m \u001b[38;5;28;01mfor\u001b[39;00m i \u001b[38;5;129;01min\u001b[39;00m (\u001b[43museful_i\u001b[49m):\n\u001b[1;32m      2\u001b[0m     \u001b[38;5;28mprint\u001b[39m(\u001b[38;5;124mf\u001b[39m\u001b[38;5;124m\"\u001b[39m\u001b[38;5;124mSubgraph slow \u001b[39m\u001b[38;5;132;01m{\u001b[39;00mi\u001b[38;5;132;01m}\u001b[39;00m\u001b[38;5;124m: \u001b[39m\u001b[38;5;132;01m{\u001b[39;00msubgraphs_slow[i]\u001b[38;5;241m.\u001b[39mnumber_of_nodes()\u001b[38;5;132;01m}\u001b[39;00m\u001b[38;5;124m nodes, \u001b[39m\u001b[38;5;132;01m{\u001b[39;00msubgraphs_slow[i]\u001b[38;5;241m.\u001b[39mnumber_of_edges()\u001b[38;5;132;01m}\u001b[39;00m\u001b[38;5;124m edges\u001b[39m\u001b[38;5;124m\"\u001b[39m)\n\u001b[1;32m      3\u001b[0m     \u001b[38;5;28mprint\u001b[39m(\u001b[38;5;124mf\u001b[39m\u001b[38;5;124m\"\u001b[39m\u001b[38;5;124mSubgraph fast \u001b[39m\u001b[38;5;132;01m{\u001b[39;00mi\u001b[38;5;132;01m}\u001b[39;00m\u001b[38;5;124m: \u001b[39m\u001b[38;5;132;01m{\u001b[39;00msubgraphs_fast[i]\u001b[38;5;241m.\u001b[39mnumber_of_nodes()\u001b[38;5;132;01m}\u001b[39;00m\u001b[38;5;124m nodes, \u001b[39m\u001b[38;5;132;01m{\u001b[39;00msubgraphs_fast[i]\u001b[38;5;241m.\u001b[39mnumber_of_edges()\u001b[38;5;132;01m}\u001b[39;00m\u001b[38;5;124m edges\u001b[39m\u001b[38;5;124m\"\u001b[39m)\n",
      "\u001b[0;31mNameError\u001b[0m: name 'useful_i' is not defined"
     ]
    }
   ],
   "source": [
    "for i in (useful_i):\n",
    "    print(f\"Subgraph slow {i}: {subgraphs_slow[i].number_of_nodes()} nodes, {subgraphs_slow[i].number_of_edges()} edges\")\n",
    "    print(f\"Subgraph fast {i}: {subgraphs_fast[i].number_of_nodes()} nodes, {subgraphs_fast[i].number_of_edges()} edges\")\n",
    "    if i >= 5:  # check first few subgraphs\n",
    "        break\n",
    "\n",
    "ox.basic_stats(subgraphs_slow[i]).keys()"
   ]
  },
  {
   "cell_type": "code",
   "execution_count": null,
   "id": "94d9aad6-2835-429b-ae16-10fe1a81c37b",
   "metadata": {},
   "outputs": [],
   "source": []
  }
 ],
 "metadata": {
  "kernelspec": {
   "display_name": "Python 3 (ipykernel)",
   "language": "python",
   "name": "python3"
  },
  "language_info": {
   "codemirror_mode": {
    "name": "ipython",
    "version": 3
   },
   "file_extension": ".py",
   "mimetype": "text/x-python",
   "name": "python",
   "nbconvert_exporter": "python",
   "pygments_lexer": "ipython3",
   "version": "3.8.17"
  }
 },
 "nbformat": 4,
 "nbformat_minor": 5
}
