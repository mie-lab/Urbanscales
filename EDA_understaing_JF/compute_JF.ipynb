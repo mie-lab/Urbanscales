{
 "cells": [
  {
   "cell_type": "code",
   "execution_count": 7,
   "id": "9c2944df",
   "metadata": {},
   "outputs": [
    {
     "name": "stderr",
     "output_type": "stream",
     "text": [
      "100%|████████████████████████████████████████████████████████████████████████████████████████████████████████████████████| 167/167 [00:20<00:00,  8.10it/s]\n"
     ]
    },
    {
     "name": "stdout",
     "output_type": "stream",
     "text": [
      "city, pearsonr(B, A) : Auckland (0.713876381322044, 0.0)\n",
      "***********************************************\n"
     ]
    },
    {
     "name": "stderr",
     "output_type": "stream",
     "text": [
      "100%|████████████████████████████████████████████████████████████████████████████████████████████████████████████████████| 167/167 [00:21<00:00,  7.69it/s]\n"
     ]
    },
    {
     "name": "stdout",
     "output_type": "stream",
     "text": [
      "city, pearsonr(B, A) : Bogota (0.7731027967573311, 0.0)\n",
      "***********************************************\n"
     ]
    },
    {
     "name": "stderr",
     "output_type": "stream",
     "text": [
      "100%|████████████████████████████████████████████████████████████████████████████████████████████████████████████████████| 167/167 [00:13<00:00, 12.47it/s]\n"
     ]
    },
    {
     "name": "stdout",
     "output_type": "stream",
     "text": [
      "city, pearsonr(B, A) : Capetown (0.8386234070970896, 0.0)\n",
      "***********************************************\n"
     ]
    },
    {
     "name": "stderr",
     "output_type": "stream",
     "text": [
      "100%|████████████████████████████████████████████████████████████████████████████████████████████████████████████████████| 167/167 [05:20<00:00,  1.92s/it]\n"
     ]
    },
    {
     "name": "stdout",
     "output_type": "stream",
     "text": [
      "city, pearsonr(B, A) : Istanbul (0.7379788698594283, 0.0)\n",
      "***********************************************\n"
     ]
    },
    {
     "name": "stderr",
     "output_type": "stream",
     "text": [
      "100%|████████████████████████████████████████████████████████████████████████████████████████████████████████████████████| 167/167 [00:18<00:00,  9.16it/s]\n"
     ]
    },
    {
     "name": "stdout",
     "output_type": "stream",
     "text": [
      "city, pearsonr(B, A) : Singapore (0.8271623706771638, 0.0)\n",
      "***********************************************\n"
     ]
    },
    {
     "name": "stderr",
     "output_type": "stream",
     "text": [
      "100%|████████████████████████████████████████████████████████████████████████████████████████████████████████████████████| 167/167 [00:18<00:00,  9.27it/s]\n"
     ]
    },
    {
     "name": "stdout",
     "output_type": "stream",
     "text": [
      "city, pearsonr(B, A) : London (0.6086827127937412, 0.0)\n",
      "***********************************************\n"
     ]
    },
    {
     "name": "stderr",
     "output_type": "stream",
     "text": [
      "100%|████████████████████████████████████████████████████████████████████████████████████████████████████████████████████| 167/167 [00:13<00:00, 12.60it/s]\n"
     ]
    },
    {
     "name": "stdout",
     "output_type": "stream",
     "text": [
      "city, pearsonr(B, A) : MexicoCity (0.8122358335124908, 0.0)\n",
      "***********************************************\n"
     ]
    },
    {
     "name": "stderr",
     "output_type": "stream",
     "text": [
      "100%|████████████████████████████████████████████████████████████████████████████████████████████████████████████████████| 167/167 [00:51<00:00,  3.26it/s]\n"
     ]
    },
    {
     "name": "stdout",
     "output_type": "stream",
     "text": [
      "city, pearsonr(B, A) : NewYorkCity (0.7064076640603302, 0.0)\n",
      "***********************************************\n"
     ]
    },
    {
     "name": "stderr",
     "output_type": "stream",
     "text": [
      "100%|████████████████████████████████████████████████████████████████████████████████████████████████████████████████████| 167/167 [00:18<00:00,  8.79it/s]\n"
     ]
    },
    {
     "name": "stdout",
     "output_type": "stream",
     "text": [
      "city, pearsonr(B, A) : Singapore (0.8271623706771638, 0.0)\n",
      "***********************************************\n"
     ]
    },
    {
     "name": "stderr",
     "output_type": "stream",
     "text": [
      "100%|████████████████████████████████████████████████████████████████████████████████████████████████████████████████████| 167/167 [00:02<00:00, 69.67it/s]\n"
     ]
    },
    {
     "name": "stdout",
     "output_type": "stream",
     "text": [
      "city, pearsonr(B, A) : Zurich (0.18082822401583723, 0.0)\n",
      "***********************************************\n"
     ]
    }
   ],
   "source": [
    "# ! pip install smartprint==1.0.5\n",
    "\n",
    "import pandas as pd\n",
    "from scipy.stats import pearsonr   \n",
    "from smartprint import smartprint as sprint \n",
    "import re \n",
    "import matplotlib.pyplot as plt \n",
    "import numpy as np\n",
    "import os \n",
    "from scipy import stats\n",
    "from tqdm import tqdm\n",
    "import csv \n",
    "\n",
    "# reset the file\n",
    "with open(\"summary_compare_JF_CI.csv\", \"w\") as f:\n",
    "    csvwriter = csv.writer(f)\n",
    "    csvwriter.writerow([\"City\", \"Zscore\", \"Clipping\", \"Pearson\"])\n",
    "    pass\n",
    "\n",
    "\n",
    "# for city in [\"NewYorkCity\"]:\n",
    "\n",
    "for clipping_enabled in [True]:#, False]:\n",
    "    for zscore_norm in [False]:#[True, False]:\n",
    "        for city in [\"Auckland\",\"Bogota\",\"Capetown\",\"Istanbul\",\"Singapore\",\"London\",\"MexicoCity\",\n",
    "             \"NewYorkCity\",\"Singapore\",\"Zurich\"]:\n",
    "\n",
    "            jf_df = pd.read_csv('here_data_speed_'+city+'_jf.csv')\n",
    "            filename = 'speed-2022-08-01-*_speed_'+city+'_template.csv'\n",
    "            filename = os.popen('ls '+filename).read().strip()\n",
    "            ff_df = pd.read_csv(filename)\n",
    "            speed_df = pd.read_csv('here_data_speed_'+city+'_sp.csv')\n",
    "\n",
    "\n",
    "            A = []\n",
    "            B = []\n",
    "\n",
    "            # col iterates over time slots in data (total: 24*6*7, 10 minutes sampling * 24 hours * 1 week )\n",
    "            for col in tqdm(range(1, 1000, 6)):\n",
    "                combined = pd.merge(jf_df, ff_df, on='NID', how='inner')\n",
    "                combined = combined[['NID',jf_df.columns[col],'FF']]\n",
    "                combined = combined.rename(columns={jf_df.columns[col]: 'providedJF'}) \n",
    "\n",
    "                combined = pd.merge(combined, speed_df, on='NID', how='inner')\n",
    "                combined = combined[['NID',speed_df.columns[col],'FF','providedJF']]\n",
    "                combined = combined.rename(columns={speed_df.columns[col]: 'SP'}) \n",
    "\n",
    "                combined['computedJF'] = combined['FF'] / combined['SP']\n",
    "\n",
    "                if clipping_enabled: \n",
    "                    combined = combined.clip(lower = 0)\n",
    "                    combined = combined.clip(upper = 10) \n",
    "\n",
    "                a = combined[\"computedJF\"]\n",
    "                b = combined[\"providedJF\"]\n",
    "\n",
    "\n",
    "                # Seems some imputation is already done\n",
    "                # @Yatao: uncomment these lines to see sometimes, -1 in CJF → 10 PJF; \n",
    "                # other places: -1 in CJF remains as -1 in PJF 😒\n",
    "        #         for index, row in combined.iterrows():\n",
    "        #             if row[\"SP\"] < 0:\n",
    "        #                 sprint (row[\"SP\"], row[\"FF\"], row[\"providedJF\"], row[\"computedJF\"])\n",
    "\n",
    "\n",
    "                A.extend(a.to_numpy().tolist())\n",
    "                B.extend(b.to_numpy().tolist())\n",
    "\n",
    "\n",
    "            if zscore_norm: \n",
    "                A = stats.zscore(A)\n",
    "                B = stats.zscore(B)    \n",
    "\n",
    "            sprint(city, pearsonr(B, A))\n",
    "\n",
    "#             plt.plot(A, label=\"computed\", alpha=1)\n",
    "#             plt.plot(A, label=\"provided\", alpha=0.3)\n",
    "#             plt.legend(loc=\"lower right\")\n",
    "#             plt.title(city)\n",
    "#             plt.show()\n",
    "\n",
    "            print (\"***********************************************\")\n",
    "            \n",
    "            with open(\"summary_compare_JF_CI.csv\", \"a\") as f:\n",
    "                csvwriter = csv.writer(f)\n",
    "                csvwriter.writerow([city, str(zscore_norm), str(clipping_enabled), str(pearsonr(B, A)[0])])"
   ]
  }
 ],
 "metadata": {
  "kernelspec": {
   "display_name": "Python 3 (ipykernel)",
   "language": "python",
   "name": "python3"
  },
  "language_info": {
   "codemirror_mode": {
    "name": "ipython",
    "version": 3
   },
   "file_extension": ".py",
   "mimetype": "text/x-python",
   "name": "python",
   "nbconvert_exporter": "python",
   "pygments_lexer": "ipython3",
   "version": "3.8.12"
  }
 },
 "nbformat": 4,
 "nbformat_minor": 5
}
