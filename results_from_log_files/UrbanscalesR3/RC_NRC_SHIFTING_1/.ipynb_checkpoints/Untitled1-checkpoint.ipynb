{
 "cells": [
  {
   "cell_type": "code",
   "execution_count": 2,
   "id": "6c1d27d5",
   "metadata": {},
   "outputs": [
    {
     "ename": "ModuleNotFoundError",
     "evalue": "No module named 'cartopy'",
     "output_type": "error",
     "traceback": [
      "\u001b[0;31m---------------------------------------------------------------------------\u001b[0m",
      "\u001b[0;31mModuleNotFoundError\u001b[0m                       Traceback (most recent call last)",
      "Cell \u001b[0;32mIn[2], line 3\u001b[0m\n\u001b[1;32m      1\u001b[0m \u001b[38;5;28;01mfrom\u001b[39;00m \u001b[38;5;21;01mmatplotlib\u001b[39;00m\u001b[38;5;21;01m.\u001b[39;00m\u001b[38;5;21;01mcm\u001b[39;00m \u001b[38;5;28;01mimport\u001b[39;00m get_cmap\n\u001b[1;32m      2\u001b[0m \u001b[38;5;28;01mimport\u001b[39;00m \u001b[38;5;21;01mnumpy\u001b[39;00m \u001b[38;5;28;01mas\u001b[39;00m \u001b[38;5;21;01mnp\u001b[39;00m\n\u001b[0;32m----> 3\u001b[0m \u001b[38;5;28;01mfrom\u001b[39;00m \u001b[38;5;21;01mcartopy\u001b[39;00m \u001b[38;5;28;01mimport\u001b[39;00m crs\n\u001b[1;32m      4\u001b[0m \u001b[38;5;28;01mfrom\u001b[39;00m \u001b[38;5;21;01mcartopy\u001b[39;00m\u001b[38;5;21;01m.\u001b[39;00m\u001b[38;5;21;01mfeature\u001b[39;00m \u001b[38;5;28;01mimport\u001b[39;00m NaturalEarthFeature\n\u001b[1;32m      5\u001b[0m \u001b[38;5;28;01mimport\u001b[39;00m \u001b[38;5;21;01mmatplotlib\u001b[39;00m\n",
      "\u001b[0;31mModuleNotFoundError\u001b[0m: No module named 'cartopy'"
     ]
    }
   ],
   "source": [
    "\n",
    "from matplotlib.cm import get_cmap\n",
    "import numpy as np\n",
    "from cartopy import crs\n",
    "from cartopy.feature import NaturalEarthFeature\n",
    "import matplotlib\n",
    "import matplotlib.pyplot as plt\n",
    "from netCDF4 import Dataset\n",
    "import xarray as xr\n",
    "\n",
    "from wrf import (getvar, interplevel, vertcross, \n",
    "                 CoordPair, ALL_TIMES, to_np,\n",
    "                 get_cartopy, latlon_coords,\n",
    "                 cartopy_xlim, cartopy_ylim)\n",
    "\n",
    "\n",
    "lats, lons = latlon_coords(ctt)\n",
    "\n",
    "cart_proj = get_cartopy(ctt)\n",
    "\n",
    "fig = plt.figure(figsize=(12,9))\n",
    "ax_ctt = fig.add_subplot(1,1,1,projection=cart_proj)\n",
    "\n",
    "contour_levels = [-10, 0, 10, 20, 30, 40]\n",
    "ctt_contours = ax_ctt.contourf(to_np(lons), to_np(lats), to_np(ctt),\n",
    "                               contour_levels, cmap=get_cmap(\"Blues_r\"),\n",
    "                               transform=crs.PlateCarree())\n",
    "\n",
    "\n",
    "cb_ctt = fig.colorbar(ctt_contours, ax=ax_ctt, shrink=.60)\n",
    "cb_ctt.ax.tick_params(labelsize=9)\n",
    "\n",
    "ax_ctt.set_xlim(cartopy_xlim(ctt))\n",
    "ax_ctt.set_ylim(cartopy_ylim(ctt))\n",
    "ax_ctt.gridlines(color=\"white\", linestyle=\"dotted\")\n",
    "\n",
    "states = NaturalEarthFeature(category=\"cultural\", scale=\"10m\",\n",
    "                             facecolor=\"none\",\n",
    "                             name=\"admin_1_states_provinces\")\n",
    "ax_ctt.add_feature(states, linewidth=0.2, edgecolor=\"black\")\n",
    "ax_ctt.coastlines('10m', linewidth=0.4)\n",
    "\n",
    "plt.show()\n"
   ]
  },
  {
   "cell_type": "code",
   "execution_count": null,
   "id": "7c6fb25e",
   "metadata": {},
   "outputs": [],
   "source": []
  }
 ],
 "metadata": {
  "kernelspec": {
   "display_name": "Python 3 (ipykernel)",
   "language": "python",
   "name": "python3"
  },
  "language_info": {
   "codemirror_mode": {
    "name": "ipython",
    "version": 3
   },
   "file_extension": ".py",
   "mimetype": "text/x-python",
   "name": "python",
   "nbconvert_exporter": "python",
   "pygments_lexer": "ipython3",
   "version": "3.10.5"
  }
 },
 "nbformat": 4,
 "nbformat_minor": 5
}
