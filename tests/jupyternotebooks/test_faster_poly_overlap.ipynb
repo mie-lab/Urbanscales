{
 "cells": [
  {
   "cell_type": "code",
   "execution_count": 8,
   "id": "863348f0-851e-4971-b4bb-4be37d9f0a91",
   "metadata": {},
   "outputs": [
    {
     "name": "stdout",
     "output_type": "stream",
     "text": [
      "yes, contains\n",
      "no, does not contain\n",
      "no, does not contain\n",
      "no, does not contain\n",
      "yes, contains\n",
      "no, does not contain\n"
     ]
    }
   ],
   "source": [
    "# !pip install shapely \n",
    "\n",
    "from shapely.geometry import Polygon\n",
    "from shapely.strtree import STRtree\n",
    "polys = [Polygon(((0, 0), (1, 0), (1, 1))), Polygon(((0, 1), (0, 0), (1, 0))), Polygon(((100, 100), (101, 100), (101, 101)))]\n",
    "s = STRtree(polys)\n",
    "query_geom = Polygon([(-1, -1), (2, 0), (2, 2), (-1, 2)])\n",
    "neighbours = s.query(query_geom)\n",
    "for x in neighbours:\n",
    "    for y in polys:\n",
    "        if x.contains(y):\n",
    "            print (\"yes, contains\") \n",
    "        else:\n",
    "            print (\"no, does not contain\") "
   ]
  },
  {
   "cell_type": "code",
   "execution_count": null,
   "id": "6188934f-0854-4b1c-96f9-a022cb056988",
   "metadata": {},
   "outputs": [],
   "source": []
  }
 ],
 "metadata": {
  "kernelspec": {
   "display_name": "Python 3 (ipykernel)",
   "language": "python",
   "name": "python3"
  },
  "language_info": {
   "codemirror_mode": {
    "name": "ipython",
    "version": 3
   },
   "file_extension": ".py",
   "mimetype": "text/x-python",
   "name": "python",
   "nbconvert_exporter": "python",
   "pygments_lexer": "ipython3",
   "version": "3.8.12"
  }
 },
 "nbformat": 4,
 "nbformat_minor": 5
}
