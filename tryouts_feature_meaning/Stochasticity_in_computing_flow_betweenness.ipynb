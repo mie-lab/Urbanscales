{
 "cells": [
  {
   "cell_type": "code",
   "execution_count": 11,
   "id": "59be4bca-f3d8-4b07-8344-1fb181a19acd",
   "metadata": {},
   "outputs": [
    {
     "ename": "AttributeError",
     "evalue": "'set' object has no attribute 'is_directed'",
     "output_type": "error",
     "traceback": [
      "\u001b[0;31m---------------------------------------------------------------------------\u001b[0m",
      "\u001b[0;31mAttributeError\u001b[0m                            Traceback (most recent call last)",
      "Cell \u001b[0;32mIn[11], line 35\u001b[0m\n\u001b[1;32m     32\u001b[0m num_random_nodes \u001b[38;5;241m=\u001b[39m \u001b[38;5;241m20\u001b[39m\n\u001b[1;32m     34\u001b[0m \u001b[38;5;66;03m# Run betweenness centrality the first time to pick 20 random nodes\u001b[39;00m\n\u001b[0;32m---> 35\u001b[0m initial_bc \u001b[38;5;241m=\u001b[39m \u001b[43mnx\u001b[49m\u001b[38;5;241;43m.\u001b[39;49m\u001b[43mapproximate_current_flow_betweenness_centrality\u001b[49m\u001b[43m(\u001b[49m\u001b[38;5;28;43mmax\u001b[39;49m\u001b[43m(\u001b[49m\u001b[43mnx\u001b[49m\u001b[38;5;241;43m.\u001b[39;49m\u001b[43mconnected_components\u001b[49m\u001b[43m(\u001b[49m\u001b[43mG\u001b[49m\u001b[38;5;241;43m.\u001b[39;49m\u001b[43mto_undirected\u001b[49m\u001b[43m(\u001b[49m\u001b[43m)\u001b[49m\u001b[43m)\u001b[49m\u001b[43m,\u001b[49m\u001b[43m \u001b[49m\u001b[43mkey\u001b[49m\u001b[38;5;241;43m=\u001b[39;49m\u001b[38;5;28;43mlen\u001b[39;49m\u001b[43m)\u001b[49m\u001b[43m)\u001b[49m\n\u001b[1;32m     36\u001b[0m random_nodes \u001b[38;5;241m=\u001b[39m random\u001b[38;5;241m.\u001b[39msample(\u001b[38;5;28mlist\u001b[39m(initial_bc\u001b[38;5;241m.\u001b[39mkeys()), num_random_nodes)\n\u001b[1;32m     38\u001b[0m \u001b[38;5;66;03m# Store the values of the nodes over each iteration\u001b[39;00m\n",
      "File \u001b[0;32m<class 'networkx.utils.decorators.argmap'> compilation 5:3\u001b[0m, in \u001b[0;36margmap_approximate_current_flow_betweenness_centrality_1\u001b[0;34m(G, normalized, weight, dtype, solver, epsilon, kmax, seed)\u001b[0m\n\u001b[1;32m      1\u001b[0m \u001b[38;5;28;01mimport\u001b[39;00m \u001b[38;5;21;01mbz2\u001b[39;00m\n\u001b[1;32m      2\u001b[0m \u001b[38;5;28;01mimport\u001b[39;00m \u001b[38;5;21;01mcollections\u001b[39;00m\n\u001b[0;32m----> 3\u001b[0m \u001b[38;5;28;01mimport\u001b[39;00m \u001b[38;5;21;01mgzip\u001b[39;00m\n\u001b[1;32m      4\u001b[0m \u001b[38;5;28;01mimport\u001b[39;00m \u001b[38;5;21;01minspect\u001b[39;00m\n\u001b[1;32m      5\u001b[0m \u001b[38;5;28;01mimport\u001b[39;00m \u001b[38;5;21;01mitertools\u001b[39;00m\n",
      "File \u001b[0;32m~/opt/anaconda3/envs/wcs3/lib/python3.8/site-packages/networkx/utils/decorators.py:84\u001b[0m, in \u001b[0;36mnot_implemented_for.<locals>._not_implemented_for\u001b[0;34m(g)\u001b[0m\n\u001b[1;32m     82\u001b[0m \u001b[38;5;28;01mdef\u001b[39;00m \u001b[38;5;21m_not_implemented_for\u001b[39m(g):\n\u001b[1;32m     83\u001b[0m     \u001b[38;5;28;01mif\u001b[39;00m (mval \u001b[38;5;129;01mis\u001b[39;00m \u001b[38;5;28;01mNone\u001b[39;00m \u001b[38;5;129;01mor\u001b[39;00m mval \u001b[38;5;241m==\u001b[39m g\u001b[38;5;241m.\u001b[39mis_multigraph()) \u001b[38;5;129;01mand\u001b[39;00m (\n\u001b[0;32m---> 84\u001b[0m         dval \u001b[38;5;129;01mis\u001b[39;00m \u001b[38;5;28;01mNone\u001b[39;00m \u001b[38;5;129;01mor\u001b[39;00m dval \u001b[38;5;241m==\u001b[39m \u001b[43mg\u001b[49m\u001b[38;5;241;43m.\u001b[39;49m\u001b[43mis_directed\u001b[49m()\n\u001b[1;32m     85\u001b[0m     ):\n\u001b[1;32m     86\u001b[0m         \u001b[38;5;28;01mraise\u001b[39;00m nx\u001b[38;5;241m.\u001b[39mNetworkXNotImplemented(errmsg)\n\u001b[1;32m     88\u001b[0m     \u001b[38;5;28;01mreturn\u001b[39;00m g\n",
      "\u001b[0;31mAttributeError\u001b[0m: 'set' object has no attribute 'is_directed'"
     ]
    }
   ],
   "source": [
    "import networkx as nx\n",
    "import matplotlib.pyplot as plt\n",
    "import random\n",
    "\n",
    "import copy\n",
    "import os\n",
    "import pickle\n",
    "import time\n",
    "import glob\n",
    "import numpy as np\n",
    "from matplotlib import pyplot as plt\n",
    "from sklearn.preprocessing import StandardScaler\n",
    "import sys\n",
    "\n",
    "sys.path.append(\"../..\")\n",
    "import config\n",
    "from urbanscales.io.road_network import RoadNetwork\n",
    "from urbanscales.preprocessing.prep_network import Scale\n",
    "from urbanscales.preprocessing.prep_speed import ScaleJF\n",
    "from urbanscales.preprocessing.tile import Tile\n",
    "import pandas as pd\n",
    "from tqdm import tqdm\n",
    "\n",
    "\n",
    "scl = Scale.get_object(\"Singapore\", 20)\n",
    "\n",
    "# Assuming you have already initialized your graph scl.RoadNetwork.G_osm\n",
    "G = scl.RoadNetwork.G_osm\n",
    "\n",
    "# Number of iterations and random nodes to pick\n",
    "iterations = 30\n",
    "num_random_nodes = 20\n",
    "\n",
    "# Run betweenness centrality the first time to pick 20 random nodes\n",
    "initial_bc = nx.approximate_current_flow_betweenness_centrality(max(nx.connected_components(G.to_undirected()), key=len))\n",
    "random_nodes = random.sample(list(initial_bc.keys()), num_random_nodes)\n",
    "\n",
    "# Store the values of the nodes over each iteration\n",
    "values = {node: [] for node in random_nodes}\n",
    "\n",
    "for i in tqdm.tqdm(range(iterations), desc=\"Iterations..\"):\n",
    "    bc = nx.approximate_current_flow_betweenness_centrality(max(nx.connected_components(G.to_undirected()), key=len))\n",
    "    for node in random_nodes:\n",
    "        values[node].append(bc[node])\n",
    "    \n",
    "    # Plot the values after each iteration\n",
    "    plt.figure(figsize=(10, 6))\n",
    "    for node, val in values.items():\n",
    "        plt.plot(val, label=str(node))\n",
    "\n",
    "    plt.xlabel('Iteration')\n",
    "    plt.ylabel('Betweenness Centrality Value')\n",
    "    plt.title(f'Change in Betweenness Centrality over Iterations - Step {i+1}')\n",
    "    plt.legend(loc='upper right')\n",
    "    plt.savefig(f'betweenness_centrality_plot_step_{i+1}.png')  # Save the figure\n",
    "    plt.show()"
   ]
  },
  {
   "cell_type": "code",
   "execution_count": 10,
   "id": "0838ca5d-7067-4cdd-88d3-5c7a8e3b0fc1",
   "metadata": {},
   "outputs": [],
   "source": [
    "G = max(nx.connected_components(G.to_undirected()), key=len)"
   ]
  },
  {
   "cell_type": "code",
   "execution_count": null,
   "id": "33fb61a0-4efd-455d-bccb-a4f9e7a8c3ba",
   "metadata": {},
   "outputs": [],
   "source": []
  },
  {
   "cell_type": "code",
   "execution_count": 5,
   "id": "2e179a62-52c8-4489-a8fe-95757ca2b5a6",
   "metadata": {},
   "outputs": [],
   "source": []
  },
  {
   "cell_type": "code",
   "execution_count": null,
   "id": "e94ce103-6172-4199-847a-0b776cc9c2fb",
   "metadata": {},
   "outputs": [],
   "source": []
  }
 ],
 "metadata": {
  "kernelspec": {
   "display_name": "Python 3 (ipykernel)",
   "language": "python",
   "name": "python3"
  },
  "language_info": {
   "codemirror_mode": {
    "name": "ipython",
    "version": 3
   },
   "file_extension": ".py",
   "mimetype": "text/x-python",
   "name": "python",
   "nbconvert_exporter": "python",
   "pygments_lexer": "ipython3",
   "version": "3.8.17"
  }
 },
 "nbformat": 4,
 "nbformat_minor": 5
}
