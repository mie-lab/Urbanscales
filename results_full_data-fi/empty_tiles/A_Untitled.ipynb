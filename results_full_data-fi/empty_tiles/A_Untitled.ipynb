{
 "cells": [
  {
   "cell_type": "code",
   "execution_count": 1,
   "id": "f9c5fbc4",
   "metadata": {},
   "outputs": [
    {
     "name": "stderr",
     "output_type": "stream",
     "text": [
      "/var/folders/dp/q2rz500s2kj79pnbkf36h7ch0000gq/T/ipykernel_51929/518990181.py:15: DeprecationWarning: `np.float` is a deprecated alias for the builtin `float`. To silence this warning, use `float` by itself. Doing this will not modify any behavior and is safe. If you specifically wanted the numpy scalar type, use `np.float64` here.\n",
      "Deprecated in NumPy 1.20; for more details and guidance: https://numpy.org/devdocs/release/1.20.0-notes.html#deprecations\n",
      "  arr=numpy.zeros((h,w,3),numpy.float)\n",
      "  0%|          | 0/875 [00:00<?, ?it/s]/var/folders/dp/q2rz500s2kj79pnbkf36h7ch0000gq/T/ipykernel_51929/518990181.py:20: DeprecationWarning: `np.float` is a deprecated alias for the builtin `float`. To silence this warning, use `float` by itself. Doing this will not modify any behavior and is safe. If you specifically wanted the numpy scalar type, use `np.float64` here.\n",
      "Deprecated in NumPy 1.20; for more details and guidance: https://numpy.org/devdocs/release/1.20.0-notes.html#deprecations\n",
      "  imarr=numpy.array(Image.open(im),dtype=numpy.float)\n",
      "  4%|▍         | 34/875 [00:03<01:23, 10.03it/s]\n"
     ]
    },
    {
     "ename": "KeyboardInterrupt",
     "evalue": "",
     "output_type": "error",
     "traceback": [
      "\u001B[0;31m---------------------------------------------------------------------------\u001B[0m",
      "\u001B[0;31mKeyboardInterrupt\u001B[0m                         Traceback (most recent call last)",
      "\u001B[0;32m/var/folders/dp/q2rz500s2kj79pnbkf36h7ch0000gq/T/ipykernel_51929/518990181.py\u001B[0m in \u001B[0;36m<module>\u001B[0;34m\u001B[0m\n\u001B[1;32m     20\u001B[0m     \u001B[0mimarr\u001B[0m\u001B[0;34m=\u001B[0m\u001B[0mnumpy\u001B[0m\u001B[0;34m.\u001B[0m\u001B[0marray\u001B[0m\u001B[0;34m(\u001B[0m\u001B[0mImage\u001B[0m\u001B[0;34m.\u001B[0m\u001B[0mopen\u001B[0m\u001B[0;34m(\u001B[0m\u001B[0mim\u001B[0m\u001B[0;34m)\u001B[0m\u001B[0;34m,\u001B[0m\u001B[0mdtype\u001B[0m\u001B[0;34m=\u001B[0m\u001B[0mnumpy\u001B[0m\u001B[0;34m.\u001B[0m\u001B[0mfloat\u001B[0m\u001B[0;34m)\u001B[0m\u001B[0;34m\u001B[0m\u001B[0;34m\u001B[0m\u001B[0m\n\u001B[1;32m     21\u001B[0m     \u001B[0mimarr\u001B[0m \u001B[0;34m=\u001B[0m \u001B[0mimarr\u001B[0m\u001B[0;34m[\u001B[0m\u001B[0;34m:\u001B[0m\u001B[0;34m,\u001B[0m\u001B[0;34m:\u001B[0m\u001B[0;34m,\u001B[0m\u001B[0;34m:\u001B[0m\u001B[0;36m3\u001B[0m\u001B[0;34m]\u001B[0m\u001B[0;34m\u001B[0m\u001B[0;34m\u001B[0m\u001B[0m\n\u001B[0;32m---> 22\u001B[0;31m     \u001B[0marr\u001B[0m\u001B[0;34m=\u001B[0m\u001B[0marr\u001B[0m\u001B[0;34m+\u001B[0m\u001B[0mimarr\u001B[0m\u001B[0;34m/\u001B[0m\u001B[0mN\u001B[0m\u001B[0;34m\u001B[0m\u001B[0;34m\u001B[0m\u001B[0m\n\u001B[0m\u001B[1;32m     23\u001B[0m \u001B[0marrcopy\u001B[0m \u001B[0;34m=\u001B[0m \u001B[0mnumpy\u001B[0m\u001B[0;34m.\u001B[0m\u001B[0marray\u001B[0m\u001B[0;34m(\u001B[0m\u001B[0marr\u001B[0m\u001B[0;34m)\u001B[0m\u001B[0;34m\u001B[0m\u001B[0;34m\u001B[0m\u001B[0m\n\u001B[1;32m     24\u001B[0m \u001B[0;34m\u001B[0m\u001B[0m\n",
      "\u001B[0;31mKeyboardInterrupt\u001B[0m: "
     ]
    }
   ],
   "source": [
    "import os, numpy, PIL\n",
    "from PIL import Image\n",
    "from tqdm import tqdm \n",
    "\n",
    "# Access all PNG files in directory\n",
    "allfiles=os.listdir(os.getcwd())\n",
    "imlist=[filename for filename in allfiles if  filename[-4:] in [\".png\",\".PNG\"] and \"e25\" in filename]\n",
    "\n",
    "# Assuming all images are the same size, get dimensions of first image\n",
    "w,h=Image.open(imlist[0]).size\n",
    "N=len(imlist)\n",
    "# N = 100\n",
    "\n",
    "# Create a numpy array of floats to store the average (assume RGB images)\n",
    "arr=numpy.zeros((h,w,3),numpy.float)\n",
    "\n",
    "# Build up average pixel intensities, casting each image as an array of floats\n",
    "for i in tqdm(range(N)):\n",
    "    im = imlist[i]\n",
    "    imarr=numpy.array(Image.open(im),dtype=numpy.float)\n",
    "    imarr = imarr[:,:,:3]\n",
    "    arr=arr+imarr/N\n",
    "arrcopy = numpy.array(arr)\n"
   ]
  },
  {
   "cell_type": "code",
   "execution_count": null,
   "id": "85ae6f59",
   "metadata": {},
   "outputs": [],
   "source": [
    "# Round values in array and cast as 8-bit integer\n",
    "\n",
    "arr = numpy.array(arrcopy)\n",
    "\n",
    "arr=numpy.array(numpy.round(arr*275*N)/N,dtype=numpy.uint8)\n",
    "\n",
    "# Generate, save and preview final image\n",
    "out=Image.fromarray(arr,mode=\"RGB\")\n",
    "out.save(\"Average.png\")\n",
    "out.show()"
   ]
  },
  {
   "cell_type": "code",
   "execution_count": 2,
   "id": "cb2336f7",
   "metadata": {},
   "outputs": [
    {
     "data": {
      "text/plain": "<Figure size 720x720 with 1 Axes>",
      "image/png": "[encoded data removed]"
     },
     "metadata": {},
     "output_type": "display_data"
    },
    {
     "data": {
      "text/plain": "<Figure size 576x576 with 1 Axes>",
      "image/png": "[encoded data removed]"
     },
     "metadata": {},
     "output_type": "display_data"
    },
    {
     "data": {
      "text/plain": "(<Figure size 576x576 with 1 Axes>, <AxesSubplot: >)"
     },
     "execution_count": 2,
     "metadata": {},
     "output_type": "execute_result"
    }
   ],
   "source": [
    "import numpy as np\n",
    "import osmnx as ox\n",
    "import geopandas as gpd\n",
    "import networkx as nx\n",
    "import matplotlib.pyplot as plt\n",
    "\n",
    "N, S, E, W = 1.3235381983186159, 1.319982801681384, \\\n",
    "                           103.85361309942331 , 103.84833190057668,\n",
    "graph = ox.graph_from_bbox(N, S, E, W, \\\n",
    "                           network_type='drive')\n",
    "nodes= ox.graph_to_gdfs(graph, nodes=True, edges=False)\n",
    "edges= ox.graph_to_gdfs(graph, edges=True, nodes=False)\n",
    "fig, ax = ox.plot.plot_graph(\n",
    "                graph,\n",
    "                ax=None,\n",
    "                figsize=(10, 10),\n",
    "                bgcolor=\"white\",\n",
    "                node_color=\"red\",\n",
    "                node_size=5,\n",
    "                node_alpha=None,\n",
    "                node_edgecolor=\"none\",\n",
    "                node_zorder=1,\n",
    "                edge_color=\"black\",\n",
    "                edge_linewidth=0.1,\n",
    "                edge_alpha=None,\n",
    "                show=False,\n",
    "                close=False,\n",
    "                save=False,\n",
    "                bbox=None,\n",
    "            )\n",
    "W_ = W + (E-W) * 0.8\n",
    "S_ = S + (N-S)*0.7\n",
    "width = (E - W)*0.07 \n",
    "height = (N - S)*0.1 \n",
    "\n",
    "rect = plt.Rectangle((W_, S_), width, height, facecolor=\"green\", alpha=0.3, edgecolor=None)\n",
    "ax.add_patch(rect)\n",
    "plt.show()\n",
    "\n",
    "g_truncated = ox.truncate.truncate_graph_bbox(graph, S_ + height, S_, W_+width, W_, truncate_by_edge=False)\n",
    "ox.plot_graph(g_truncated)\n",
    "\n",
    "\n",
    "\n"
   ]
  },
  {
   "cell_type": "code",
   "execution_count": 227,
   "id": "8e83b8fd",
   "metadata": {},
   "outputs": [],
   "source": []
  },
  {
   "cell_type": "code",
   "execution_count": 3,
   "id": "c61db4dc",
   "metadata": {},
   "outputs": [
    {
     "ename": "NameError",
     "evalue": "name 'gs_nodes' is not defined",
     "output_type": "error",
     "traceback": [
      "\u001B[0;31m---------------------------------------------------------------------------\u001B[0m",
      "\u001B[0;31mNameError\u001B[0m                                 Traceback (most recent call last)",
      "\u001B[0;32m/var/folders/dp/q2rz500s2kj79pnbkf36h7ch0000gq/T/ipykernel_51929/347050030.py\u001B[0m in \u001B[0;36m<module>\u001B[0;34m\u001B[0m\n\u001B[0;32m----> 1\u001B[0;31m \u001B[0mgs_nodes\u001B[0m\u001B[0;34m.\u001B[0m\u001B[0mcolumns\u001B[0m\u001B[0;34m\u001B[0m\u001B[0;34m\u001B[0m\u001B[0m\n\u001B[0m",
      "\u001B[0;31mNameError\u001B[0m: name 'gs_nodes' is not defined"
     ]
    }
   ],
   "source": [
    "gs_nodes.columns"
   ]
  },
  {
   "cell_type": "code",
   "execution_count": 74,
   "id": "464886e2",
   "metadata": {},
   "outputs": [
    {
     "data": {
      "text/plain": [
       "geometry    LINESTRING (103.85275 1.32231, 103.85274 1.32235)\n",
       "Name: (250072296, 7165569772, 0), dtype: geometry"
      ]
     },
     "execution_count": 74,
     "metadata": {},
     "output_type": "execute_result"
    }
   ],
   "source": [
    "gs_edges[[\"geometry\"]].iloc[0]"
   ]
  },
  {
   "cell_type": "code",
   "execution_count": 20,
   "id": "90c6e8c2",
   "metadata": {},
   "outputs": [
    {
     "name": "stdout",
     "output_type": "stream",
     "text": [
      "gs_nodes.shape : (10, 5)\n",
      "POINT (103.85286058741475 1.3224715793274462)\n",
      "POINT (103.85272320020604 1.3224715793274462)\n",
      "POINT (103.8527203202912 1.3228271189911693)\n",
      "POINT (103.85260243144342 1.3228271189911693)\n"
     ]
    },
    {
     "name": "stderr",
     "output_type": "stream",
     "text": [
      "/Users/nishant/opt/anaconda3/envs/wsdslworking/lib/python3.8/site-packages/pandas/core/dtypes/cast.py:128: ShapelyDeprecationWarning: The array interface is deprecated and will no longer work in Shapely 2.0. Convert the '.coords' to a numpy array instead.\n",
      "  arr = construct_1d_object_array_from_listlike(values)\n",
      "/var/folders/dp/q2rz500s2kj79pnbkf36h7ch0000gq/T/ipykernel_51929/1451278098.py:40: FutureWarning: The frame.append method is deprecated and will be removed from pandas in a future version. Use pandas.concat instead.\n",
      "  gs_nodes = gs_nodes.append(pd.Series(new_row, index=gs_nodes.columns\\\n",
      "/Users/nishant/opt/anaconda3/envs/wsdslworking/lib/python3.8/site-packages/pandas/core/dtypes/cast.py:128: ShapelyDeprecationWarning: The array interface is deprecated and will no longer work in Shapely 2.0. Convert the '.coords' to a numpy array instead.\n",
      "  arr = construct_1d_object_array_from_listlike(values)\n",
      "/var/folders/dp/q2rz500s2kj79pnbkf36h7ch0000gq/T/ipykernel_51929/1451278098.py:40: FutureWarning: The frame.append method is deprecated and will be removed from pandas in a future version. Use pandas.concat instead.\n",
      "  gs_nodes = gs_nodes.append(pd.Series(new_row, index=gs_nodes.columns\\\n",
      "/Users/nishant/opt/anaconda3/envs/wsdslworking/lib/python3.8/site-packages/pandas/core/dtypes/cast.py:128: ShapelyDeprecationWarning: The array interface is deprecated and will no longer work in Shapely 2.0. Convert the '.coords' to a numpy array instead.\n",
      "  arr = construct_1d_object_array_from_listlike(values)\n",
      "/var/folders/dp/q2rz500s2kj79pnbkf36h7ch0000gq/T/ipykernel_51929/1451278098.py:40: FutureWarning: The frame.append method is deprecated and will be removed from pandas in a future version. Use pandas.concat instead.\n",
      "  gs_nodes = gs_nodes.append(pd.Series(new_row, index=gs_nodes.columns\\\n",
      "/Users/nishant/opt/anaconda3/envs/wsdslworking/lib/python3.8/site-packages/pandas/core/dtypes/cast.py:128: ShapelyDeprecationWarning: The array interface is deprecated and will no longer work in Shapely 2.0. Convert the '.coords' to a numpy array instead.\n",
      "  arr = construct_1d_object_array_from_listlike(values)\n",
      "/var/folders/dp/q2rz500s2kj79pnbkf36h7ch0000gq/T/ipykernel_51929/1451278098.py:40: FutureWarning: The frame.append method is deprecated and will be removed from pandas in a future version. Use pandas.concat instead.\n",
      "  gs_nodes = gs_nodes.append(pd.Series(new_row, index=gs_nodes.columns\\\n"
     ]
    },
    {
     "data": {
      "text/plain": "<Figure size 432x288 with 1 Axes>",
      "image/png": "[encoded data removed]"
     },
     "metadata": {
      "needs_background": "light"
     },
     "output_type": "display_data"
    }
   ],
   "source": [
    "import pandas as pd\n",
    "from shapely.geometry import Point, LineString\n",
    "import osmnx as ox \n",
    "from osmnx import utils_graph\n",
    "from smartprint import smartprint as sprint \n",
    "\n",
    "\n",
    "G = graph\n",
    "gs_nodes, gs_edges = utils_graph.graph_to_gdfs(G)\n",
    "sprint (gs_nodes.shape)\n",
    "\n",
    "E = W_+width \n",
    "W = W_ \n",
    "S = S_ \n",
    "N = S_ + height\n",
    "bbox_lines = [\n",
    "              LineString([Point(W,S), Point(E,S)]), \\\n",
    "              LineString([Point(E,S), Point(E,N)]), \\\n",
    "              LineString([Point(E,N), Point(W,N)]), \\\n",
    "              LineString([Point(W,N), Point(W,S)]), \\\n",
    "             ]\n",
    "\n",
    "int_list = []\n",
    "for bbox_line in bbox_lines:\n",
    "    for i in range(gs_edges.shape[0]):\n",
    "        a = (pd.Series(gs_edges[[\"geometry\"]].iloc[i]))\n",
    "\n",
    "        intersection = a[0].intersection(bbox_line)\n",
    "        int_list.append(intersection)\n",
    "        if intersection.wkt != \"LINESTRING EMPTY\":\n",
    "            print (intersection)\n",
    "#             ox.utils_geo.interpolate_points(gs_edges, dist)\n",
    "            plt.scatter(*intersection.xy, s=30, color=\"black\")\n",
    "\n",
    "            x = np.round(int_list[-1].xy[0][0], 6)\n",
    "            y = np.round(int_list[-1].xy[1][0], 6)\n",
    "            \n",
    "            new_row = [y, x, 3, np.nan, Point(x,y)]\n",
    "\n",
    "            gs_nodes = gs_nodes.append(pd.Series(new_row, index=gs_nodes.columns\\\n",
    "                                      [:len(new_row)]), ignore_index=True)\n",
    "            \n",
    "        plt.plot(*(a[0]).xy, color=\"red\")\n",
    "        plt.plot(*(bbox_line.xy), color=\"green\")\n",
    "plt.gca().set_aspect('equal')\n",
    "plt.savefig(\"Interpolated.png\", dpi=600)\n",
    "plt.show()"
   ]
  },
  {
   "cell_type": "code",
   "execution_count": 21,
   "id": "8b83feec",
   "metadata": {},
   "outputs": [
    {
     "data": {
      "text/plain": "y                                   1.322556\nx                                 103.852713\nstreet_count                               3\nhighway                                  NaN\ngeometry        POINT (103.8527134 1.322556)\nName: 5, dtype: object"
     },
     "execution_count": 21,
     "metadata": {},
     "output_type": "execute_result"
    }
   ],
   "source": [
    "gs_nodes.iloc[5]"
   ]
  },
  {
   "cell_type": "code",
   "execution_count": 22,
   "outputs": [
    {
     "data": {
      "text/plain": "y                                  1.322827\nx                                103.852602\nstreet_count                              3\nhighway                                 NaN\ngeometry        POINT (103.852602 1.322827)\nName: 13, dtype: object"
     },
     "execution_count": 22,
     "metadata": {},
     "output_type": "execute_result"
    }
   ],
   "source": [
    "gs_nodes.iloc[13]"
   ],
   "metadata": {
    "collapsed": false,
    "pycharm": {
     "name": "#%%\n"
    }
   }
  },
  {
   "cell_type": "code",
   "execution_count": 23,
   "id": "aef49c87",
   "metadata": {},
   "outputs": [
    {
     "data": {
      "text/plain": "<Figure size 720x720 with 1 Axes>",
      "image/png": "[encoded data removed]"
     },
     "metadata": {},
     "output_type": "display_data"
    },
    {
     "data": {
      "text/plain": "<Figure size 720x720 with 1 Axes>",
      "image/png": "[encoded data removed]"
     },
     "metadata": {},
     "output_type": "display_data"
    }
   ],
   "source": [
    "\n",
    "fig, ax = ox.plot.plot_graph(\n",
    "                G,\n",
    "                ax=None,\n",
    "                figsize=(10, 10),\n",
    "                bgcolor=\"white\",\n",
    "                node_color=\"red\",\n",
    "                node_size=5,\n",
    "                node_alpha=None,\n",
    "                node_edgecolor=\"none\",\n",
    "                node_zorder=1,\n",
    "                edge_color=\"black\",\n",
    "                edge_linewidth=0.1,\n",
    "                edge_alpha=None,\n",
    "                show=False,\n",
    "                close=False,\n",
    "                save=False,\n",
    "                bbox=None,\n",
    "            )\n",
    "plt.title(\"Whole graph before introducing new nodes\")\n",
    "plt.gca().set_aspect('equal')\n",
    "\n",
    "# ox.utils_geo.round_geometry_coords(gs_nodes, precision=6)\n",
    "graph2 = ox.graph_from_gdfs(gs_nodes, gs_edges)\n",
    "fig, ax = ox.plot.plot_graph(\n",
    "                graph2,\n",
    "                ax=None,\n",
    "                figsize=(10, 10),\n",
    "                bgcolor=\"white\",\n",
    "                node_color=\"red\",\n",
    "                node_size=5,\n",
    "                node_alpha=None,\n",
    "                node_edgecolor=\"none\",\n",
    "                node_zorder=1,\n",
    "                edge_color=\"black\",\n",
    "                edge_linewidth=0.1,\n",
    "                edge_alpha=None,\n",
    "                show=False,\n",
    "                close=False,\n",
    "                save=False,\n",
    "                bbox=None,\n",
    "            )\n",
    "plt.title(\"Whole graph after introducing new nodes\")\n",
    "plt.gca().set_aspect('equal')\n",
    "\n"
   ]
  },
  {
   "cell_type": "code",
   "execution_count": 24,
   "id": "158707c9",
   "metadata": {},
   "outputs": [
    {
     "data": {
      "text/plain": "<Figure size 576x576 with 1 Axes>",
      "image/png": "[encoded data removed]"
     },
     "metadata": {},
     "output_type": "display_data"
    },
    {
     "name": "stdout",
     "output_type": "stream",
     "text": [
      "Truncated before fix (above)\n"
     ]
    },
    {
     "ename": "KeyError",
     "evalue": "'x'",
     "output_type": "error",
     "traceback": [
      "\u001B[0;31m---------------------------------------------------------------------------\u001B[0m",
      "\u001B[0;31mKeyError\u001B[0m                                  Traceback (most recent call last)",
      "\u001B[0;32m/var/folders/dp/q2rz500s2kj79pnbkf36h7ch0000gq/T/ipykernel_51929/2701540051.py\u001B[0m in \u001B[0;36m<module>\u001B[0;34m\u001B[0m\n\u001B[1;32m      4\u001B[0m \u001B[0mprint\u001B[0m \u001B[0;34m(\u001B[0m\u001B[0;34m\"Truncated before fix (above)\"\u001B[0m\u001B[0;34m)\u001B[0m\u001B[0;34m\u001B[0m\u001B[0;34m\u001B[0m\u001B[0m\n\u001B[1;32m      5\u001B[0m \u001B[0;34m\u001B[0m\u001B[0m\n\u001B[0;32m----> 6\u001B[0;31m \u001B[0mg_truncated\u001B[0m \u001B[0;34m=\u001B[0m \u001B[0mox\u001B[0m\u001B[0;34m.\u001B[0m\u001B[0mtruncate\u001B[0m\u001B[0;34m.\u001B[0m\u001B[0mtruncate_graph_bbox\u001B[0m\u001B[0;34m(\u001B[0m\u001B[0mgraph2\u001B[0m\u001B[0;34m,\u001B[0m \u001B[0mN\u001B[0m\u001B[0;34m,\u001B[0m \u001B[0mS\u001B[0m\u001B[0;34m,\u001B[0m \u001B[0mE\u001B[0m\u001B[0;34m,\u001B[0m \u001B[0mW\u001B[0m\u001B[0;34m)\u001B[0m\u001B[0;34m\u001B[0m\u001B[0;34m\u001B[0m\u001B[0m\n\u001B[0m\u001B[1;32m      7\u001B[0m \u001B[0mox\u001B[0m\u001B[0;34m.\u001B[0m\u001B[0mplot_graph\u001B[0m\u001B[0;34m(\u001B[0m\u001B[0mg_truncated\u001B[0m\u001B[0;34m)\u001B[0m\u001B[0;34m\u001B[0m\u001B[0;34m\u001B[0m\u001B[0m\n\u001B[1;32m      8\u001B[0m \u001B[0mprint\u001B[0m \u001B[0;34m(\u001B[0m\u001B[0;34m\"Truncated after fix (below)\"\u001B[0m\u001B[0;34m)\u001B[0m\u001B[0;34m\u001B[0m\u001B[0;34m\u001B[0m\u001B[0m\n",
      "\u001B[0;32m~/opt/anaconda3/envs/wsdslworking/lib/python3.8/site-packages/osmnx/truncate.py\u001B[0m in \u001B[0;36mtruncate_graph_bbox\u001B[0;34m(G, north, south, east, west, truncate_by_edge, retain_all, quadrat_width, min_num)\u001B[0m\n\u001B[1;32m    106\u001B[0m     \u001B[0;31m# convert bounding box to a polygon, then truncate\u001B[0m\u001B[0;34m\u001B[0m\u001B[0;34m\u001B[0m\u001B[0;34m\u001B[0m\u001B[0m\n\u001B[1;32m    107\u001B[0m     \u001B[0mpolygon\u001B[0m \u001B[0;34m=\u001B[0m \u001B[0mutils_geo\u001B[0m\u001B[0;34m.\u001B[0m\u001B[0mbbox_to_poly\u001B[0m\u001B[0;34m(\u001B[0m\u001B[0mnorth\u001B[0m\u001B[0;34m,\u001B[0m \u001B[0msouth\u001B[0m\u001B[0;34m,\u001B[0m \u001B[0meast\u001B[0m\u001B[0;34m,\u001B[0m \u001B[0mwest\u001B[0m\u001B[0;34m)\u001B[0m\u001B[0;34m\u001B[0m\u001B[0;34m\u001B[0m\u001B[0m\n\u001B[0;32m--> 108\u001B[0;31m     G = truncate_graph_polygon(\n\u001B[0m\u001B[1;32m    109\u001B[0m         \u001B[0mG\u001B[0m\u001B[0;34m,\u001B[0m\u001B[0;34m\u001B[0m\u001B[0;34m\u001B[0m\u001B[0m\n\u001B[1;32m    110\u001B[0m         \u001B[0mpolygon\u001B[0m\u001B[0;34m,\u001B[0m\u001B[0;34m\u001B[0m\u001B[0;34m\u001B[0m\u001B[0m\n",
      "\u001B[0;32m~/opt/anaconda3/envs/wsdslworking/lib/python3.8/site-packages/osmnx/truncate.py\u001B[0m in \u001B[0;36mtruncate_graph_polygon\u001B[0;34m(G, polygon, retain_all, truncate_by_edge, quadrat_width, min_num)\u001B[0m\n\u001B[1;32m    154\u001B[0m \u001B[0;34m\u001B[0m\u001B[0m\n\u001B[1;32m    155\u001B[0m     \u001B[0;31m# first identify all nodes whose point geometries lie within the polygon\u001B[0m\u001B[0;34m\u001B[0m\u001B[0;34m\u001B[0m\u001B[0;34m\u001B[0m\u001B[0m\n\u001B[0;32m--> 156\u001B[0;31m     \u001B[0mgs_nodes\u001B[0m \u001B[0;34m=\u001B[0m \u001B[0mutils_graph\u001B[0m\u001B[0;34m.\u001B[0m\u001B[0mgraph_to_gdfs\u001B[0m\u001B[0;34m(\u001B[0m\u001B[0mG\u001B[0m\u001B[0;34m,\u001B[0m \u001B[0medges\u001B[0m\u001B[0;34m=\u001B[0m\u001B[0;32mFalse\u001B[0m\u001B[0;34m)\u001B[0m\u001B[0;34m[\u001B[0m\u001B[0;34m[\u001B[0m\u001B[0;34m\"geometry\"\u001B[0m\u001B[0;34m]\u001B[0m\u001B[0;34m]\u001B[0m\u001B[0;34m\u001B[0m\u001B[0;34m\u001B[0m\u001B[0m\n\u001B[0m\u001B[1;32m    157\u001B[0m     \u001B[0mto_keep\u001B[0m \u001B[0;34m=\u001B[0m \u001B[0mutils_geo\u001B[0m\u001B[0;34m.\u001B[0m\u001B[0m_intersect_index_quadrats\u001B[0m\u001B[0;34m(\u001B[0m\u001B[0mgs_nodes\u001B[0m\u001B[0;34m,\u001B[0m \u001B[0mpolygon\u001B[0m\u001B[0;34m,\u001B[0m \u001B[0mquadrat_width\u001B[0m\u001B[0;34m,\u001B[0m \u001B[0mmin_num\u001B[0m\u001B[0;34m)\u001B[0m\u001B[0;34m\u001B[0m\u001B[0;34m\u001B[0m\u001B[0m\n\u001B[1;32m    158\u001B[0m \u001B[0;34m\u001B[0m\u001B[0m\n",
      "\u001B[0;32m~/opt/anaconda3/envs/wsdslworking/lib/python3.8/site-packages/osmnx/utils_graph.py\u001B[0m in \u001B[0;36mgraph_to_gdfs\u001B[0;34m(G, nodes, edges, node_geometry, fill_edge_geometry)\u001B[0m\n\u001B[1;32m     52\u001B[0m             \u001B[0;31m# convert node x/y attributes to Points for geometry column\u001B[0m\u001B[0;34m\u001B[0m\u001B[0;34m\u001B[0m\u001B[0;34m\u001B[0m\u001B[0m\n\u001B[1;32m     53\u001B[0m             \u001B[0mgeom\u001B[0m \u001B[0;34m=\u001B[0m \u001B[0;34m(\u001B[0m\u001B[0mPoint\u001B[0m\u001B[0;34m(\u001B[0m\u001B[0md\u001B[0m\u001B[0;34m[\u001B[0m\u001B[0;34m\"x\"\u001B[0m\u001B[0;34m]\u001B[0m\u001B[0;34m,\u001B[0m \u001B[0md\u001B[0m\u001B[0;34m[\u001B[0m\u001B[0;34m\"y\"\u001B[0m\u001B[0;34m]\u001B[0m\u001B[0;34m)\u001B[0m \u001B[0;32mfor\u001B[0m \u001B[0md\u001B[0m \u001B[0;32min\u001B[0m \u001B[0mdata\u001B[0m\u001B[0;34m)\u001B[0m\u001B[0;34m\u001B[0m\u001B[0;34m\u001B[0m\u001B[0m\n\u001B[0;32m---> 54\u001B[0;31m             \u001B[0mgdf_nodes\u001B[0m \u001B[0;34m=\u001B[0m \u001B[0mgpd\u001B[0m\u001B[0;34m.\u001B[0m\u001B[0mGeoDataFrame\u001B[0m\u001B[0;34m(\u001B[0m\u001B[0mdata\u001B[0m\u001B[0;34m,\u001B[0m \u001B[0mindex\u001B[0m\u001B[0;34m=\u001B[0m\u001B[0mnodes\u001B[0m\u001B[0;34m,\u001B[0m \u001B[0mcrs\u001B[0m\u001B[0;34m=\u001B[0m\u001B[0mcrs\u001B[0m\u001B[0;34m,\u001B[0m \u001B[0mgeometry\u001B[0m\u001B[0;34m=\u001B[0m\u001B[0mlist\u001B[0m\u001B[0;34m(\u001B[0m\u001B[0mgeom\u001B[0m\u001B[0;34m)\u001B[0m\u001B[0;34m)\u001B[0m\u001B[0;34m\u001B[0m\u001B[0;34m\u001B[0m\u001B[0m\n\u001B[0m\u001B[1;32m     55\u001B[0m         \u001B[0;32melse\u001B[0m\u001B[0;34m:\u001B[0m\u001B[0;34m\u001B[0m\u001B[0;34m\u001B[0m\u001B[0m\n\u001B[1;32m     56\u001B[0m             \u001B[0mgdf_nodes\u001B[0m \u001B[0;34m=\u001B[0m \u001B[0mgpd\u001B[0m\u001B[0;34m.\u001B[0m\u001B[0mGeoDataFrame\u001B[0m\u001B[0;34m(\u001B[0m\u001B[0mdata\u001B[0m\u001B[0;34m,\u001B[0m \u001B[0mindex\u001B[0m\u001B[0;34m=\u001B[0m\u001B[0mnodes\u001B[0m\u001B[0;34m)\u001B[0m\u001B[0;34m\u001B[0m\u001B[0;34m\u001B[0m\u001B[0m\n",
      "\u001B[0;32m~/opt/anaconda3/envs/wsdslworking/lib/python3.8/site-packages/osmnx/utils_graph.py\u001B[0m in \u001B[0;36m<genexpr>\u001B[0;34m(.0)\u001B[0m\n\u001B[1;32m     51\u001B[0m         \u001B[0;32mif\u001B[0m \u001B[0mnode_geometry\u001B[0m\u001B[0;34m:\u001B[0m\u001B[0;34m\u001B[0m\u001B[0;34m\u001B[0m\u001B[0m\n\u001B[1;32m     52\u001B[0m             \u001B[0;31m# convert node x/y attributes to Points for geometry column\u001B[0m\u001B[0;34m\u001B[0m\u001B[0;34m\u001B[0m\u001B[0;34m\u001B[0m\u001B[0m\n\u001B[0;32m---> 53\u001B[0;31m             \u001B[0mgeom\u001B[0m \u001B[0;34m=\u001B[0m \u001B[0;34m(\u001B[0m\u001B[0mPoint\u001B[0m\u001B[0;34m(\u001B[0m\u001B[0md\u001B[0m\u001B[0;34m[\u001B[0m\u001B[0;34m\"x\"\u001B[0m\u001B[0;34m]\u001B[0m\u001B[0;34m,\u001B[0m \u001B[0md\u001B[0m\u001B[0;34m[\u001B[0m\u001B[0;34m\"y\"\u001B[0m\u001B[0;34m]\u001B[0m\u001B[0;34m)\u001B[0m \u001B[0;32mfor\u001B[0m \u001B[0md\u001B[0m \u001B[0;32min\u001B[0m \u001B[0mdata\u001B[0m\u001B[0;34m)\u001B[0m\u001B[0;34m\u001B[0m\u001B[0;34m\u001B[0m\u001B[0m\n\u001B[0m\u001B[1;32m     54\u001B[0m             \u001B[0mgdf_nodes\u001B[0m \u001B[0;34m=\u001B[0m \u001B[0mgpd\u001B[0m\u001B[0;34m.\u001B[0m\u001B[0mGeoDataFrame\u001B[0m\u001B[0;34m(\u001B[0m\u001B[0mdata\u001B[0m\u001B[0;34m,\u001B[0m \u001B[0mindex\u001B[0m\u001B[0;34m=\u001B[0m\u001B[0mnodes\u001B[0m\u001B[0;34m,\u001B[0m \u001B[0mcrs\u001B[0m\u001B[0;34m=\u001B[0m\u001B[0mcrs\u001B[0m\u001B[0;34m,\u001B[0m \u001B[0mgeometry\u001B[0m\u001B[0;34m=\u001B[0m\u001B[0mlist\u001B[0m\u001B[0;34m(\u001B[0m\u001B[0mgeom\u001B[0m\u001B[0;34m)\u001B[0m\u001B[0;34m)\u001B[0m\u001B[0;34m\u001B[0m\u001B[0;34m\u001B[0m\u001B[0m\n\u001B[1;32m     55\u001B[0m         \u001B[0;32melse\u001B[0m\u001B[0;34m:\u001B[0m\u001B[0;34m\u001B[0m\u001B[0;34m\u001B[0m\u001B[0m\n",
      "\u001B[0;31mKeyError\u001B[0m: 'x'"
     ]
    }
   ],
   "source": [
    "g_truncated = ox.truncate.truncate_graph_bbox(graph, N, S, E, W)\n",
    "ox.plot_graph(g_truncated)\n",
    "\n",
    "print (\"Truncated before fix (above)\")\n",
    "\n",
    "g_truncated = ox.truncate.truncate_graph_bbox(graph2, N, S, E, W)\n",
    "ox.plot_graph(g_truncated)\n",
    "print (\"Truncated after fix (below)\")"
   ]
  },
  {
   "cell_type": "code",
   "execution_count": 171,
   "id": "dad20ed2",
   "metadata": {},
   "outputs": [
    {
     "data": {
      "image/png": "[encoded data removed]",
      "text/plain": [
       "<Figure size 432x288 with 1 Axes>"
      ]
     },
     "metadata": {
      "needs_background": "light"
     },
     "output_type": "display_data"
    }
   ],
   "source": [
    "for j in range(gs_edges.shape[0]):\n",
    "    a = ox.utils_geo.interpolate_points((gs_edges[[\"geometry\"]].iloc[j])[0], dist=0.00005 )\n",
    "    for i in a:\n",
    "#         print (i, j)\n",
    "        plt.scatter(i[0], i[1], color=\"blue\", s=1)\n",
    "    #     print (i)\n",
    "plt.gca().set_aspect('equal')\n",
    "plt.show()"
   ]
  },
  {
   "cell_type": "code",
   "execution_count": 146,
   "id": "e7769477",
   "metadata": {},
   "outputs": [
    {
     "data": {
      "text/plain": [
       "<module 'matplotlib.pyplot' from '/Users/nishant/opt/anaconda3/envs/wcs/lib/python3.10/site-packages/matplotlib/pyplot.py'>"
      ]
     },
     "execution_count": 146,
     "metadata": {},
     "output_type": "execute_result"
    }
   ],
   "source": [
    "plt"
   ]
  },
  {
   "cell_type": "code",
   "execution_count": null,
   "id": "e2b14ceb",
   "metadata": {},
   "outputs": [],
   "source": []
  }
 ],
 "metadata": {
  "kernelspec": {
   "display_name": "Python 3 (ipykernel)",
   "language": "python",
   "name": "python3"
  },
  "language_info": {
   "codemirror_mode": {
    "name": "ipython",
    "version": 3
   },
   "file_extension": ".py",
   "mimetype": "text/x-python",
   "name": "python",
   "nbconvert_exporter": "python",
   "pygments_lexer": "ipython3",
   "version": "3.10.5"
  }
 },
 "nbformat": 4,
 "nbformat_minor": 5
}