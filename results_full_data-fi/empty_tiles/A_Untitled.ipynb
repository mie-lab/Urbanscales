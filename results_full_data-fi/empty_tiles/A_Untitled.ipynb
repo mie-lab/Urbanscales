{
 "cells": [
  {
   "cell_type": "code",
   "execution_count": 1,
   "id": "f9c5fbc4",
   "metadata": {},
   "outputs": [
    {
     "name": "stderr",
     "output_type": "stream",
     "text": [
      "/var/folders/dp/q2rz500s2kj79pnbkf36h7ch0000gq/T/ipykernel_36047/2237221968.py:15: DeprecationWarning: `np.float` is a deprecated alias for the builtin `float`. To silence this warning, use `float` by itself. Doing this will not modify any behavior and is safe. If you specifically wanted the numpy scalar type, use `np.float64` here.\n",
      "Deprecated in NumPy 1.20; for more details and guidance: https://numpy.org/devdocs/release/1.20.0-notes.html#deprecations\n",
      "  arr=numpy.zeros((h,w,3),numpy.float)\n",
      "  0%|                                                                                                                                               | 0/875 [00:00<?, ?it/s]/var/folders/dp/q2rz500s2kj79pnbkf36h7ch0000gq/T/ipykernel_36047/2237221968.py:20: DeprecationWarning: `np.float` is a deprecated alias for the builtin `float`. To silence this warning, use `float` by itself. Doing this will not modify any behavior and is safe. If you specifically wanted the numpy scalar type, use `np.float64` here.\n",
      "Deprecated in NumPy 1.20; for more details and guidance: https://numpy.org/devdocs/release/1.20.0-notes.html#deprecations\n",
      "  imarr=numpy.array(Image.open(im),dtype=numpy.float)\n",
      "100%|█████████████████████████████████████████████████████████████████████████████████████████████████████████████████████████████████████| 875/875 [01:06<00:00, 13.23it/s]\n"
     ]
    }
   ],
   "source": [
    "import os, numpy, PIL\n",
    "from PIL import Image\n",
    "from tqdm import tqdm \n",
    "\n",
    "# Access all PNG files in directory\n",
    "allfiles=os.listdir(os.getcwd())\n",
    "imlist=[filename for filename in allfiles if  filename[-4:] in [\".png\",\".PNG\"] and \"e25\" in filename]\n",
    "\n",
    "# Assuming all images are the same size, get dimensions of first image\n",
    "w,h=Image.open(imlist[0]).size\n",
    "N=len(imlist)\n",
    "# N = 100\n",
    "\n",
    "# Create a numpy array of floats to store the average (assume RGB images)\n",
    "arr=numpy.zeros((h,w,3),numpy.float)\n",
    "\n",
    "# Build up average pixel intensities, casting each image as an array of floats\n",
    "for i in tqdm(range(N)):\n",
    "    im = imlist[i]\n",
    "    imarr=numpy.array(Image.open(im),dtype=numpy.float)\n",
    "    imarr = imarr[:,:,:3]\n",
    "    arr=arr+imarr/N\n",
    "arrcopy = numpy.array(arr)\n"
   ]
  },
  {
   "cell_type": "code",
   "execution_count": 5,
   "id": "85ae6f59",
   "metadata": {},
   "outputs": [],
   "source": [
    "# Round values in array and cast as 8-bit integer\n",
    "\n",
    "arr = numpy.array(arrcopy)\n",
    "\n",
    "arr=numpy.array(numpy.round(arr*275*N)/N,dtype=numpy.uint8)\n",
    "\n",
    "# Generate, save and preview final image\n",
    "out=Image.fromarray(arr,mode=\"RGB\")\n",
    "out.save(\"Average.png\")\n",
    "out.show()"
   ]
  },
  {
   "cell_type": "code",
   "execution_count": 70,
   "id": "cb2336f7",
   "metadata": {},
   "outputs": [
    {
     "data": {
      "image/png": "[encoded data removed]",
      "text/plain": [
       "<Figure size 720x720 with 1 Axes>"
      ]
     },
     "metadata": {},
     "output_type": "display_data"
    },
    {
     "data": {
      "image/png": "[encoded data removed]",
      "text/plain": [
       "<Figure size 576x576 with 1 Axes>"
      ]
     },
     "metadata": {},
     "output_type": "display_data"
    },
    {
     "data": {
      "text/plain": [
       "(<Figure size 576x576 with 1 Axes>, <AxesSubplot:>)"
      ]
     },
     "execution_count": 70,
     "metadata": {},
     "output_type": "execute_result"
    }
   ],
   "source": [
    "import numpy as np\n",
    "import osmnx as ox\n",
    "import geopandas as gpd\n",
    "import networkx as nx\n",
    "import matplotlib.pyplot as plt\n",
    "\n",
    "N, S, E, W = 1.3235381983186159, 1.319982801681384, \\\n",
    "                           103.85361309942331 , 103.84833190057668,\n",
    "graph = ox.graph_from_bbox(N, S, E, W, \\\n",
    "                           network_type='drive')\n",
    "nodes= ox.graph_to_gdfs(graph, nodes=True, edges=False)\n",
    "edges= ox.graph_to_gdfs(graph, edges=True, nodes=False)\n",
    "fig, ax = ox.plot.plot_graph(\n",
    "                graph,\n",
    "                ax=None,\n",
    "                figsize=(10, 10),\n",
    "                bgcolor=\"white\",\n",
    "                node_color=\"red\",\n",
    "                node_size=5,\n",
    "                node_alpha=None,\n",
    "                node_edgecolor=\"none\",\n",
    "                node_zorder=1,\n",
    "                edge_color=\"black\",\n",
    "                edge_linewidth=0.1,\n",
    "                edge_alpha=None,\n",
    "                show=False,\n",
    "                close=False,\n",
    "                save=False,\n",
    "                bbox=None,\n",
    "            )\n",
    "W_ = W + (E-W) * 0.8\n",
    "S_ = S + (N-S)*0.7\n",
    "width = (E - W)*0.07 \n",
    "height = (N - S)*0.1 \n",
    "\n",
    "rect = plt.Rectangle((W_, S_), width, height, facecolor=\"green\", alpha=0.3, edgecolor=None)\n",
    "ax.add_patch(rect)\n",
    "plt.show()\n",
    "\n",
    "g_truncated = ox.truncate.truncate_graph_bbox(graph, S_ + height, S_, W_+width, W_, truncate_by_edge=False)\n",
    "ox.plot_graph(g_truncated)\n",
    "\n",
    "\n",
    "\n"
   ]
  },
  {
   "cell_type": "code",
   "execution_count": 72,
   "id": "8e83b8fd",
   "metadata": {},
   "outputs": [],
   "source": [
    "from osmnx import utils_graph\n",
    "G = graph\n",
    "gs_nodes, gs_edges = utils_graph.graph_to_gdfs(G)\n"
   ]
  },
  {
   "cell_type": "code",
   "execution_count": 73,
   "id": "5895ee01",
   "metadata": {},
   "outputs": [
    {
     "data": {
      "text/plain": [
       "((10, 5), (13, 9))"
      ]
     },
     "execution_count": 73,
     "metadata": {},
     "output_type": "execute_result"
    }
   ],
   "source": [
    "gs_nodes.shape, gs_edges.shape\n"
   ]
  },
  {
   "cell_type": "code",
   "execution_count": 74,
   "id": "11990a7e",
   "metadata": {},
   "outputs": [
    {
     "data": {
      "text/plain": [
       "geometry    LINESTRING (103.85275 1.32231, 103.85274 1.32235)\n",
       "Name: (250072296, 7165569772, 0), dtype: geometry"
      ]
     },
     "execution_count": 74,
     "metadata": {},
     "output_type": "execute_result"
    }
   ],
   "source": [
    "gs_edges[[\"geometry\"]].iloc[0]"
   ]
  },
  {
   "cell_type": "code",
   "execution_count": 98,
   "id": "f9f29995",
   "metadata": {},
   "outputs": [
    {
     "name": "stdout",
     "output_type": "stream",
     "text": [
      "POINT (103.85286058741475 1.3224715793274462)\n",
      "POINT (103.85272320020604 1.3224715793274462)\n",
      "POINT (103.8527203202912 1.3228271189911693)\n",
      "POINT (103.85260243144342 1.3228271189911693)\n"
     ]
    },
    {
     "data": {
      "image/png": "[encoded data removed]",
      "text/plain": [
       "<Figure size 432x288 with 1 Axes>"
      ]
     },
     "metadata": {
      "needs_background": "light"
     },
     "output_type": "display_data"
    }
   ],
   "source": [
    "import pandas as pd\n",
    "from shapely.geometry import Point, LineString\n",
    "\n",
    "E = W_+width \n",
    "W = W_ \n",
    "S = S_ \n",
    "N = S_ + height\n",
    "bbox_lines = [\n",
    "              LineString([Point(W,S), Point(E,S)]), \\\n",
    "              LineString([Point(E,S), Point(E,N)]), \\\n",
    "              LineString([Point(E,N), Point(W,N)]), \\\n",
    "              LineString([Point(W,N), Point(W,S)]), \\\n",
    "             ]\n",
    "for bbox_line in bbox_lines:\n",
    "    for i in range(gs_edges.shape[0]):\n",
    "        a = (pd.Series(gs_edges[[\"geometry\"]].iloc[i]))\n",
    "\n",
    "        intersection = a[0].intersection(bbox_line)\n",
    "        if intersection.wkt != \"LINESTRING EMPTY\":\n",
    "            print (intersection)\n",
    "    #     plt.clf()\n",
    "            plt.scatter(*intersection.xy, s=30, color=\"black\")\n",
    "        \n",
    "        plt.plot(*(a[0]).xy, color=\"red\")\n",
    "        plt.plot(*(bbox_line.xy), color=\"green\")\n",
    "plt.gca().set_aspect('equal')\n",
    "plt.savefig(\"Interpolated.png\", dpi=600)\n",
    "plt.show()"
   ]
  },
  {
   "cell_type": "code",
   "execution_count": 65,
   "id": "f4576c78",
   "metadata": {},
   "outputs": [
    {
     "data": {
      "text/plain": [
       "'LINESTRING (103.84833190057668 1.319982801681384, 103.85361309942331 1.319982801681384)'"
      ]
     },
     "execution_count": 65,
     "metadata": {},
     "output_type": "execute_result"
    }
   ],
   "source": [
    "bbox_line_horiz.wkt\n"
   ]
  },
  {
   "cell_type": "code",
   "execution_count": 66,
   "id": "b6d1f06e",
   "metadata": {},
   "outputs": [
    {
     "data": {
      "text/plain": [
       "'LINESTRING (103.8527412 1.3223464, 103.8527261 1.3224466, 103.8527134 1.322556)'"
      ]
     },
     "execution_count": 66,
     "metadata": {},
     "output_type": "execute_result"
    }
   ],
   "source": [
    "a[0].wherekt"
   ]
  },
  {
   "cell_type": "code",
   "execution_count": null,
   "id": "27aed1df",
   "metadata": {},
   "outputs": [],
   "source": []
  }
 ],
 "metadata": {
  "kernelspec": {
   "display_name": "Python 3 (ipykernel)",
   "language": "python",
   "name": "python3"
  },
  "language_info": {
   "codemirror_mode": {
    "name": "ipython",
    "version": 3
   },
   "file_extension": ".py",
   "mimetype": "text/x-python",
   "name": "python",
   "nbconvert_exporter": "python",
   "pygments_lexer": "ipython3",
   "version": "3.10.5"
  }
 },
 "nbformat": 4,
 "nbformat_minor": 5
}
