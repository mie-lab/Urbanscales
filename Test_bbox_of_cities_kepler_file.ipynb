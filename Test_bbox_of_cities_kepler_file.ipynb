{
 "cells": [
  {
   "cell_type": "code",
   "execution_count": 10,
   "id": "e9c44d43",
   "metadata": {},
   "outputs": [],
   "source": [
    "import config\n",
    "bbox_list = list(config.rn_city_wise_bboxes.values())"
   ]
  },
  {
   "cell_type": "code",
   "execution_count": null,
   "id": "7560331f",
   "metadata": {},
   "outputs": [],
   "source": []
  },
  {
   "cell_type": "code",
   "execution_count": 11,
   "id": "af9e5b57",
   "metadata": {},
   "outputs": [],
   "source": [
    "import geojson\n",
    "\n",
    "# Define an empty list to hold the city bounding box Features\n",
    "features = []\n",
    "\n",
    "# Loop through each city and create a Feature with a Polygon geometry\n",
    "for bbox in bbox_list:\n",
    "    # Reorder the bounding box coordinates to match the GeoJSON format of [lon, lat]\n",
    "    lon_min, lat_min, lon_max, lat_max = bbox[3], bbox[2], bbox[1], bbox[0]\n",
    "    # Create a list with the bounding box vertices in a counter-clockwise order\n",
    "    vertices = [(lon_min, lat_min), (lon_max, lat_min), (lon_max, lat_max), (lon_min, lat_max), (lon_min, lat_min)]\n",
    "    # Create a Polygon geometry with the vertices\n",
    "    polygon = geojson.Polygon([vertices])\n",
    "    # Create a Feature with the Polygon geometry and add it to the list of Features\n",
    "    feature = geojson.Feature(geometry=polygon)\n",
    "    features.append(feature)\n",
    "\n",
    "# Create a FeatureCollection with all the Features and save to a GeoJSON file\n",
    "feature_collection = geojson.FeatureCollection(features)\n",
    "with open('city_bboxes.geojson', 'w') as f:\n",
    "    geojson.dump(feature_collection, f)"
   ]
  },
  {
   "cell_type": "code",
   "execution_count": null,
   "id": "ace30113",
   "metadata": {},
   "outputs": [],
   "source": []
  }
 ],
 "metadata": {
  "kernelspec": {
   "display_name": "Python 3 (ipykernel)",
   "language": "python",
   "name": "python3"
  },
  "language_info": {
   "codemirror_mode": {
    "name": "ipython",
    "version": 3
   },
   "file_extension": ".py",
   "mimetype": "text/x-python",
   "name": "python",
   "nbconvert_exporter": "python",
   "pygments_lexer": "ipython3",
   "version": "3.8.12"
  }
 },
 "nbformat": 4,
 "nbformat_minor": 5
}
